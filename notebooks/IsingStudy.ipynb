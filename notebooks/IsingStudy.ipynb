{
 "cells": [
  {
   "cell_type": "code",
   "execution_count": 1,
   "id": "0a368c20-6011-4fb3-9050-a2e1a703b46b",
   "metadata": {},
   "outputs": [],
   "source": [
    "using Plots\n",
    "using Statistics\n",
    "using CSV\n",
    "using DataFrames"
   ]
  },
  {
   "cell_type": "code",
   "execution_count": 2,
   "id": "53abc8af-d9ab-4155-bb75-0f76d7b6d09d",
   "metadata": {},
   "outputs": [
    {
     "data": {
      "text/plain": [
       "ising_metropolis_sweep!"
      ]
     },
     "execution_count": 2,
     "metadata": {},
     "output_type": "execute_result"
    }
   ],
   "source": [
    "\"\"\"\n",
    "    ising_metropolis_sweep(spins, T, E, M)\n",
    "\n",
    "Perform one sweep of the lattice using single-spin-flip dynamics (1 sweep == N*N flip attempts).\n",
    "Here arguments E and M are the total energy and total magnetization before the sweep.\n",
    "Returns total energy and magnetization after sweep.\n",
    "\"\"\"\n",
    "function ising_metropolis_sweep!(spins, T, E, M)\n",
    "    N = size(spins)[1]\n",
    "    for i=1:N^2\n",
    "        k = rand(1:N, 2)\n",
    "        ΔE = deltaE(spins, k, N)\n",
    "        if accept_flip(ΔE, T)\n",
    "            spins[k[1], k[2]] *= -1\n",
    "            E = E + ΔE\n",
    "            M = M + 2spins[k[1], k[2]]\n",
    "        end\n",
    "    end\n",
    "    return E, M\n",
    "end"
   ]
  },
  {
   "cell_type": "code",
   "execution_count": 3,
   "id": "00b3bf8b-98a5-44e2-9bf7-926771183f39",
   "metadata": {},
   "outputs": [
    {
     "data": {
      "text/plain": [
       "accept_flip"
      ]
     },
     "execution_count": 3,
     "metadata": {},
     "output_type": "execute_result"
    }
   ],
   "source": [
    "\"\"\"\n",
    "    accept_flip(spins, N, k_i, k_j, T)\n",
    "\n",
    "Determine whether to accept the next state or not according to Metropolis acceptance rates.\n",
    "Returns `true` or `false`.\n",
    "\"\"\"\n",
    "function accept_flip(ΔE, T)\n",
    "    # Metropolis Acceptance Rates\n",
    "    if ΔE <= 0\n",
    "        return true\n",
    "    elseif rand() < exp(-ΔE/T)\n",
    "        return true\n",
    "    else\n",
    "        return false\n",
    "    end\n",
    "end"
   ]
  },
  {
   "cell_type": "code",
   "execution_count": 4,
   "id": "a724d49c-4a49-44bd-82e4-4378cd340c4b",
   "metadata": {},
   "outputs": [
    {
     "data": {
      "text/plain": [
       "deltaE"
      ]
     },
     "execution_count": 4,
     "metadata": {},
     "output_type": "execute_result"
    }
   ],
   "source": [
    "\"\"\"\n",
    "    delta_E(spins, k)\n",
    "\n",
    "Calculate the energy difference between two states for one spin flip at site k.\n",
    "\"\"\"\n",
    "function deltaE(spins, k, N)\n",
    "    ΔE = 0\n",
    "    for δ ∈ ([1, 0], [N-1, 0], [0, 1], [0, N-1])\n",
    "        nn = k + δ\n",
    "        @. nn = mod1(nn, N)  # Apply periodic boundary conditions\n",
    "        ΔE += spins[nn[1], nn[2]]\n",
    "    end\n",
    "    ΔE *= 2spins[k[1], k[2]]\n",
    "end"
   ]
  },
  {
   "cell_type": "code",
   "execution_count": 5,
   "id": "e731621e-9bbb-42c4-aff3-f39b90dbb52d",
   "metadata": {},
   "outputs": [
    {
     "data": {
      "text/plain": [
       "total_magnetization"
      ]
     },
     "execution_count": 5,
     "metadata": {},
     "output_type": "execute_result"
    }
   ],
   "source": [
    "\"\"\"\n",
    "    total_magnetization(spins)\n",
    "\n",
    "Calculate the total magnetization of square spin lattice.\n",
    "\"\"\"\n",
    "function total_magnetization(spins)\n",
    "    return sum(sum(spins))\n",
    "end"
   ]
  },
  {
   "cell_type": "code",
   "execution_count": 6,
   "id": "9b87a6f1-97fe-4f39-b296-4a510ddc5cbf",
   "metadata": {},
   "outputs": [
    {
     "data": {
      "text/plain": [
       "total_energy"
      ]
     },
     "execution_count": 6,
     "metadata": {},
     "output_type": "execute_result"
    }
   ],
   "source": [
    "\"\"\"\n",
    "    total_energy(spins)\n",
    "\n",
    "Calculate the total energy of the square spin lattice (with zero field and J=1).\n",
    "\"\"\"\n",
    "function total_energy(spins)\n",
    "    N = size(spins)[1]\n",
    "    running_sum = 0\n",
    "    for i=1:N\n",
    "        for j=1:N\n",
    "            s_k = spins[i, j]\n",
    "            for δ ∈ ([1, 0], [N-1, 0], [0, 1], [0, N-1])\n",
    "                nn = [i, j] + δ\n",
    "                @. nn = mod1(nn, N)  # Apply periodic boundary conditions\n",
    "                running_sum += s_k*spins[nn[1], nn[2]]\n",
    "            end\n",
    "        end\n",
    "    end\n",
    "    return -running_sum / 2  # divide by 2 because each bond counted twice\n",
    "end"
   ]
  },
  {
   "cell_type": "code",
   "execution_count": 7,
   "id": "997c0fa7-b2b6-4f63-a2f3-46cdc8fb4d08",
   "metadata": {},
   "outputs": [
    {
     "data": {
      "text/plain": [
       "autocorrelation_fn"
      ]
     },
     "execution_count": 7,
     "metadata": {},
     "output_type": "execute_result"
    }
   ],
   "source": [
    "\"\"\"\n",
    "    autocorrelation_fn(mags, N)\n",
    "\n",
    "Calculate the autocorrelation function (normalized) of the given time series array.\n",
    "\"\"\"\n",
    "function autocorrelation_fn(series, N)\n",
    "    tmax = length(series)\n",
    "    autocorr = zeros(Float64, tmax)\n",
    "    for t ∈ 1:tmax-1\n",
    "        sum1 = 0\n",
    "        sum2 = 0\n",
    "        sum3 = 0\n",
    "        for tk ∈ 1:tmax-t\n",
    "            sum1 += series[tk]*series[tk+t]\n",
    "            sum2 += series[tk]\n",
    "            sum3 += series[tk+t]\n",
    "        end\n",
    "        autocorr[t] = sum1 / (tmax-t) - (sum2*sum3) / (tmax - t)^2\n",
    "    end\n",
    "    @. autocorr /= N^2\n",
    "    @. autocorr /= autocorr[1]\n",
    "    return autocorr\n",
    "end"
   ]
  },
  {
   "cell_type": "code",
   "execution_count": 8,
   "id": "b08267ce-e344-40df-8132-d86ff7a2a7ee",
   "metadata": {},
   "outputs": [
    {
     "data": {
      "text/plain": [
       "bootstrap_err"
      ]
     },
     "execution_count": 8,
     "metadata": {},
     "output_type": "execute_result"
    }
   ],
   "source": [
    "\"\"\"\n",
    "    bootstrap_err(samples, calc_qty; r=100)\n",
    "\n",
    "Estimate the error in the given samples by bootstrap method. `calc_qty` is the function to calculate the quantity in which error has to be calculated. `r` is a keyword arguments giving number of resamples.\n",
    "\"\"\"\n",
    "function bootstrap_err(samples, calc_qty, args...; r=100)\n",
    "    nob = length(samples)\n",
    "    resample_arr = zeros(Float64, nob)\n",
    "    for i=1:r\n",
    "        resample = rand(samples, nob)\n",
    "        resample_arr[i] = calc_qty(resample, args...)\n",
    "    end\n",
    "    err = std(resample_arr, corrected=false)\n",
    "    return err\n",
    "end"
   ]
  },
  {
   "cell_type": "code",
   "execution_count": 9,
   "id": "162b62fc-bcce-4181-8e58-2fa0adda4641",
   "metadata": {},
   "outputs": [
    {
     "data": {
      "text/plain": [
       "specific_heat"
      ]
     },
     "execution_count": 9,
     "metadata": {},
     "output_type": "execute_result"
    }
   ],
   "source": [
    "\"\"\"\n",
    "    specific_heat(u_vals, T, N)\n",
    "\n",
    "Calculate the specific heat from given array of internal energy per site (`N²` sites) at temperature `T`.\n",
    "\"\"\"\n",
    "function specific_heat(u_vals, T, N)\n",
    "    return (T^-2) * N^2 * var(u_vals, corrected=false)\n",
    "end"
   ]
  },
  {
   "cell_type": "code",
   "execution_count": 10,
   "id": "12525777-87d9-408e-82c8-a2d4c40383c0",
   "metadata": {
    "tags": []
   },
   "outputs": [
    {
     "data": {
      "text/plain": [
       "succeptibility"
      ]
     },
     "execution_count": 10,
     "metadata": {},
     "output_type": "execute_result"
    }
   ],
   "source": [
    "\"\"\"\n",
    "    succeptibility(m_vals, T, N)\n",
    "\n",
    "Calculate the succeptibility from given array of mean magnetization per site (`N²` sites) at temperature `T`.\n",
    "\"\"\"\n",
    "function succeptibility(m_vals, T, N)\n",
    "    return (T^-2) * N^2 * var(m_vals, corrected=false)\n",
    "end"
   ]
  },
  {
   "cell_type": "code",
   "execution_count": 38,
   "id": "4e1fb4e3-5cbf-4d35-8785-965dc6df39fe",
   "metadata": {},
   "outputs": [],
   "source": [
    "N = 20  # Lattice size\n",
    "# spins = ones(N, N)  # T = 0\n",
    "spins = rand([-1, 1], (N, N))  # T = ∞\n",
    "# T = 2.2\n",
    "eqsteps = 2000  # Number of steps for equilibration\n",
    "nsteps = 6000  # Number of steps for measurements\n",
    "# heatmap(spins, color=:winter)\n",
    "\n",
    "Temps = collect(1.4:0.2:3.4)\n",
    "autocorr_time = zeros(Float64, length(Temps))\n",
    "for stepT in 1:length(Temps)\n",
    "    T = Temps[stepT]\n",
    "    # Equilibration\n",
    "    E0, M0 = total_energy(spins), total_magnetization(spins)\n",
    "    for i in 1:eqsteps\n",
    "        E0, M0 = ising_metropolis_sweep!(spins, T, E0, M0)\n",
    "    end\n",
    "    \n",
    "    mags = zeros(Float64, nsteps)\n",
    "    mags[1] = M0\n",
    "\n",
    "    for i in 1:nsteps-1\n",
    "        E0, mags[i+1] = ising_metropolis_sweep!(spins, T, E0, mags[i])\n",
    "    end\n",
    "    \n",
    "    @. mags /= N^2\n",
    "    autocorr = autocorrelation_fn(mags, N)\n",
    "    autocorr_time[stepT] = sum(autocorr[1:120]) \n",
    "end"
   ]
  },
  {
   "cell_type": "code",
   "execution_count": 39,
   "id": "193dce67-c5cf-410f-bda1-ae0303044ccc",
   "metadata": {
    "tags": []
   },
   "outputs": [
    {
     "data": {
      "image/svg+xml": [
       "<?xml version=\"1.0\" encoding=\"utf-8\"?>\n",
       "<svg xmlns=\"http://www.w3.org/2000/svg\" xmlns:xlink=\"http://www.w3.org/1999/xlink\" width=\"600\" height=\"400\" viewBox=\"0 0 2400 1600\">\n",
       "<defs>\n",
       "  <clipPath id=\"clip320\">\n",
       "    <rect x=\"0\" y=\"0\" width=\"2400\" height=\"1600\"/>\n",
       "  </clipPath>\n",
       "</defs>\n",
       "<path clip-path=\"url(#clip320)\" d=\"\n",
       "M0 1600 L2400 1600 L2400 0 L0 0  Z\n",
       "  \" fill=\"#ffffff\" fill-rule=\"evenodd\" fill-opacity=\"1\"/>\n",
       "<defs>\n",
       "  <clipPath id=\"clip321\">\n",
       "    <rect x=\"480\" y=\"0\" width=\"1681\" height=\"1600\"/>\n",
       "  </clipPath>\n",
       "</defs>\n",
       "<path clip-path=\"url(#clip320)\" d=\"\n",
       "M141.853 1486.45 L2352.76 1486.45 L2352.76 47.2441 L141.853 47.2441  Z\n",
       "  \" fill=\"#ffffff\" fill-rule=\"evenodd\" fill-opacity=\"1\"/>\n",
       "<defs>\n",
       "  <clipPath id=\"clip322\">\n",
       "    <rect x=\"141\" y=\"47\" width=\"2212\" height=\"1440\"/>\n",
       "  </clipPath>\n",
       "</defs>\n",
       "<polyline clip-path=\"url(#clip322)\" style=\"stroke:#000000; stroke-linecap:butt; stroke-linejoin:round; stroke-width:2; stroke-opacity:0.1; fill:none\" points=\"\n",
       "  308.714,1486.45 308.714,47.2441 \n",
       "  \"/>\n",
       "<polyline clip-path=\"url(#clip322)\" style=\"stroke:#000000; stroke-linecap:butt; stroke-linejoin:round; stroke-width:2; stroke-opacity:0.1; fill:none\" points=\"\n",
       "  830.153,1486.45 830.153,47.2441 \n",
       "  \"/>\n",
       "<polyline clip-path=\"url(#clip322)\" style=\"stroke:#000000; stroke-linecap:butt; stroke-linejoin:round; stroke-width:2; stroke-opacity:0.1; fill:none\" points=\"\n",
       "  1351.59,1486.45 1351.59,47.2441 \n",
       "  \"/>\n",
       "<polyline clip-path=\"url(#clip322)\" style=\"stroke:#000000; stroke-linecap:butt; stroke-linejoin:round; stroke-width:2; stroke-opacity:0.1; fill:none\" points=\"\n",
       "  1873.03,1486.45 1873.03,47.2441 \n",
       "  \"/>\n",
       "<polyline clip-path=\"url(#clip320)\" style=\"stroke:#000000; stroke-linecap:butt; stroke-linejoin:round; stroke-width:4; stroke-opacity:1; fill:none\" points=\"\n",
       "  141.853,1486.45 2352.76,1486.45 \n",
       "  \"/>\n",
       "<polyline clip-path=\"url(#clip320)\" style=\"stroke:#000000; stroke-linecap:butt; stroke-linejoin:round; stroke-width:4; stroke-opacity:1; fill:none\" points=\"\n",
       "  308.714,1486.45 308.714,1467.55 \n",
       "  \"/>\n",
       "<polyline clip-path=\"url(#clip320)\" style=\"stroke:#000000; stroke-linecap:butt; stroke-linejoin:round; stroke-width:4; stroke-opacity:1; fill:none\" points=\"\n",
       "  830.153,1486.45 830.153,1467.55 \n",
       "  \"/>\n",
       "<polyline clip-path=\"url(#clip320)\" style=\"stroke:#000000; stroke-linecap:butt; stroke-linejoin:round; stroke-width:4; stroke-opacity:1; fill:none\" points=\"\n",
       "  1351.59,1486.45 1351.59,1467.55 \n",
       "  \"/>\n",
       "<polyline clip-path=\"url(#clip320)\" style=\"stroke:#000000; stroke-linecap:butt; stroke-linejoin:round; stroke-width:4; stroke-opacity:1; fill:none\" points=\"\n",
       "  1873.03,1486.45 1873.03,1467.55 \n",
       "  \"/>\n",
       "<path clip-path=\"url(#clip320)\" d=\"M276.364 1544.91 L284.003 1544.91 L284.003 1518.55 L275.693 1520.21 L275.693 1515.95 L283.957 1514.29 L288.633 1514.29 L288.633 1544.91 L296.271 1544.91 L296.271 1548.85 L276.364 1548.85 L276.364 1544.91 Z\" fill=\"#000000\" fill-rule=\"evenodd\" fill-opacity=\"1\" /><path clip-path=\"url(#clip320)\" d=\"M305.716 1542.97 L310.6 1542.97 L310.6 1548.85 L305.716 1548.85 L305.716 1542.97 Z\" fill=\"#000000\" fill-rule=\"evenodd\" fill-opacity=\"1\" /><path clip-path=\"url(#clip320)\" d=\"M320.832 1514.29 L339.188 1514.29 L339.188 1518.22 L325.114 1518.22 L325.114 1526.7 Q326.132 1526.35 327.151 1526.19 Q328.169 1526 329.188 1526 Q334.975 1526 338.355 1529.17 Q341.734 1532.34 341.734 1537.76 Q341.734 1543.34 338.262 1546.44 Q334.79 1549.52 328.47 1549.52 Q326.294 1549.52 324.026 1549.15 Q321.781 1548.78 319.373 1548.04 L319.373 1543.34 Q321.457 1544.47 323.679 1545.03 Q325.901 1545.58 328.378 1545.58 Q332.382 1545.58 334.72 1543.48 Q337.058 1541.37 337.058 1537.76 Q337.058 1534.15 334.72 1532.04 Q332.382 1529.94 328.378 1529.94 Q326.503 1529.94 324.628 1530.35 Q322.776 1530.77 320.832 1531.65 L320.832 1514.29 Z\" fill=\"#000000\" fill-rule=\"evenodd\" fill-opacity=\"1\" /><path clip-path=\"url(#clip320)\" d=\"M801.392 1544.91 L817.711 1544.91 L817.711 1548.85 L795.767 1548.85 L795.767 1544.91 Q798.429 1542.16 803.012 1537.53 Q807.618 1532.88 808.799 1531.53 Q811.044 1529.01 811.924 1527.27 Q812.827 1525.51 812.827 1523.82 Q812.827 1521.07 810.882 1519.33 Q808.961 1517.6 805.859 1517.6 Q803.66 1517.6 801.206 1518.36 Q798.776 1519.13 795.998 1520.68 L795.998 1515.95 Q798.822 1514.82 801.276 1514.24 Q803.729 1513.66 805.766 1513.66 Q811.137 1513.66 814.331 1516.35 Q817.526 1519.03 817.526 1523.52 Q817.526 1525.65 816.715 1527.57 Q815.928 1529.47 813.822 1532.07 Q813.243 1532.74 810.141 1535.95 Q807.04 1539.15 801.392 1544.91 Z\" fill=\"#000000\" fill-rule=\"evenodd\" fill-opacity=\"1\" /><path clip-path=\"url(#clip320)\" d=\"M827.526 1542.97 L832.41 1542.97 L832.41 1548.85 L827.526 1548.85 L827.526 1542.97 Z\" fill=\"#000000\" fill-rule=\"evenodd\" fill-opacity=\"1\" /><path clip-path=\"url(#clip320)\" d=\"M852.595 1517.37 Q848.984 1517.37 847.155 1520.93 Q845.35 1524.47 845.35 1531.6 Q845.35 1538.71 847.155 1542.27 Q848.984 1545.82 852.595 1545.82 Q856.229 1545.82 858.035 1542.27 Q859.863 1538.71 859.863 1531.6 Q859.863 1524.47 858.035 1520.93 Q856.229 1517.37 852.595 1517.37 M852.595 1513.66 Q858.405 1513.66 861.461 1518.27 Q864.539 1522.85 864.539 1531.6 Q864.539 1540.33 861.461 1544.94 Q858.405 1549.52 852.595 1549.52 Q846.785 1549.52 843.706 1544.94 Q840.651 1540.33 840.651 1531.6 Q840.651 1522.85 843.706 1518.27 Q846.785 1513.66 852.595 1513.66 Z\" fill=\"#000000\" fill-rule=\"evenodd\" fill-opacity=\"1\" /><path clip-path=\"url(#clip320)\" d=\"M1323.33 1544.91 L1339.65 1544.91 L1339.65 1548.85 L1317.7 1548.85 L1317.7 1544.91 Q1320.37 1542.16 1324.95 1537.53 Q1329.56 1532.88 1330.74 1531.53 Q1332.98 1529.01 1333.86 1527.27 Q1334.76 1525.51 1334.76 1523.82 Q1334.76 1521.07 1332.82 1519.33 Q1330.9 1517.6 1327.8 1517.6 Q1325.6 1517.6 1323.14 1518.36 Q1320.71 1519.13 1317.94 1520.68 L1317.94 1515.95 Q1320.76 1514.82 1323.21 1514.24 Q1325.67 1513.66 1327.7 1513.66 Q1333.07 1513.66 1336.27 1516.35 Q1339.46 1519.03 1339.46 1523.52 Q1339.46 1525.65 1338.65 1527.57 Q1337.87 1529.47 1335.76 1532.07 Q1335.18 1532.74 1332.08 1535.95 Q1328.98 1539.15 1323.33 1544.91 Z\" fill=\"#000000\" fill-rule=\"evenodd\" fill-opacity=\"1\" /><path clip-path=\"url(#clip320)\" d=\"M1349.46 1542.97 L1354.35 1542.97 L1354.35 1548.85 L1349.46 1548.85 L1349.46 1542.97 Z\" fill=\"#000000\" fill-rule=\"evenodd\" fill-opacity=\"1\" /><path clip-path=\"url(#clip320)\" d=\"M1364.58 1514.29 L1382.93 1514.29 L1382.93 1518.22 L1368.86 1518.22 L1368.86 1526.7 Q1369.88 1526.35 1370.9 1526.19 Q1371.92 1526 1372.93 1526 Q1378.72 1526 1382.1 1529.17 Q1385.48 1532.34 1385.48 1537.76 Q1385.48 1543.34 1382.01 1546.44 Q1378.54 1549.52 1372.22 1549.52 Q1370.04 1549.52 1367.77 1549.15 Q1365.53 1548.78 1363.12 1548.04 L1363.12 1543.34 Q1365.2 1544.47 1367.43 1545.03 Q1369.65 1545.58 1372.12 1545.58 Q1376.13 1545.58 1378.47 1543.48 Q1380.81 1541.37 1380.81 1537.76 Q1380.81 1534.15 1378.47 1532.04 Q1376.13 1529.94 1372.12 1529.94 Q1370.25 1529.94 1368.37 1530.35 Q1366.52 1530.77 1364.58 1531.65 L1364.58 1514.29 Z\" fill=\"#000000\" fill-rule=\"evenodd\" fill-opacity=\"1\" /><path clip-path=\"url(#clip320)\" d=\"M1854.34 1530.21 Q1857.7 1530.93 1859.57 1533.2 Q1861.47 1535.47 1861.47 1538.8 Q1861.47 1543.92 1857.95 1546.72 Q1854.43 1549.52 1847.95 1549.52 Q1845.77 1549.52 1843.46 1549.08 Q1841.17 1548.66 1838.71 1547.81 L1838.71 1543.29 Q1840.66 1544.43 1842.97 1545.01 Q1845.29 1545.58 1847.81 1545.58 Q1852.21 1545.58 1854.5 1543.85 Q1856.82 1542.11 1856.82 1538.8 Q1856.82 1535.75 1854.66 1534.03 Q1852.53 1532.3 1848.71 1532.3 L1844.69 1532.3 L1844.69 1528.45 L1848.9 1528.45 Q1852.35 1528.45 1854.18 1527.09 Q1856.01 1525.7 1856.01 1523.11 Q1856.01 1520.45 1854.11 1519.03 Q1852.23 1517.6 1848.71 1517.6 Q1846.79 1517.6 1844.59 1518.01 Q1842.4 1518.43 1839.76 1519.31 L1839.76 1515.14 Q1842.42 1514.4 1844.73 1514.03 Q1847.07 1513.66 1849.13 1513.66 Q1854.46 1513.66 1857.56 1516.09 Q1860.66 1518.5 1860.66 1522.62 Q1860.66 1525.49 1859.02 1527.48 Q1857.37 1529.45 1854.34 1530.21 Z\" fill=\"#000000\" fill-rule=\"evenodd\" fill-opacity=\"1\" /><path clip-path=\"url(#clip320)\" d=\"M1870.33 1542.97 L1875.22 1542.97 L1875.22 1548.85 L1870.33 1548.85 L1870.33 1542.97 Z\" fill=\"#000000\" fill-rule=\"evenodd\" fill-opacity=\"1\" /><path clip-path=\"url(#clip320)\" d=\"M1895.4 1517.37 Q1891.79 1517.37 1889.96 1520.93 Q1888.16 1524.47 1888.16 1531.6 Q1888.16 1538.71 1889.96 1542.27 Q1891.79 1545.82 1895.4 1545.82 Q1899.04 1545.82 1900.84 1542.27 Q1902.67 1538.71 1902.67 1531.6 Q1902.67 1524.47 1900.84 1520.93 Q1899.04 1517.37 1895.4 1517.37 M1895.4 1513.66 Q1901.21 1513.66 1904.27 1518.27 Q1907.35 1522.85 1907.35 1531.6 Q1907.35 1540.33 1904.27 1544.94 Q1901.21 1549.52 1895.4 1549.52 Q1889.59 1549.52 1886.52 1544.94 Q1883.46 1540.33 1883.46 1531.6 Q1883.46 1522.85 1886.52 1518.27 Q1889.59 1513.66 1895.4 1513.66 Z\" fill=\"#000000\" fill-rule=\"evenodd\" fill-opacity=\"1\" /><polyline clip-path=\"url(#clip322)\" style=\"stroke:#000000; stroke-linecap:butt; stroke-linejoin:round; stroke-width:2; stroke-opacity:0.1; fill:none\" points=\"\n",
       "  141.853,1445.72 2352.76,1445.72 \n",
       "  \"/>\n",
       "<polyline clip-path=\"url(#clip322)\" style=\"stroke:#000000; stroke-linecap:butt; stroke-linejoin:round; stroke-width:2; stroke-opacity:0.1; fill:none\" points=\"\n",
       "  141.853,1160.35 2352.76,1160.35 \n",
       "  \"/>\n",
       "<polyline clip-path=\"url(#clip322)\" style=\"stroke:#000000; stroke-linecap:butt; stroke-linejoin:round; stroke-width:2; stroke-opacity:0.1; fill:none\" points=\"\n",
       "  141.853,874.993 2352.76,874.993 \n",
       "  \"/>\n",
       "<polyline clip-path=\"url(#clip322)\" style=\"stroke:#000000; stroke-linecap:butt; stroke-linejoin:round; stroke-width:2; stroke-opacity:0.1; fill:none\" points=\"\n",
       "  141.853,589.632 2352.76,589.632 \n",
       "  \"/>\n",
       "<polyline clip-path=\"url(#clip322)\" style=\"stroke:#000000; stroke-linecap:butt; stroke-linejoin:round; stroke-width:2; stroke-opacity:0.1; fill:none\" points=\"\n",
       "  141.853,304.27 2352.76,304.27 \n",
       "  \"/>\n",
       "<polyline clip-path=\"url(#clip320)\" style=\"stroke:#000000; stroke-linecap:butt; stroke-linejoin:round; stroke-width:4; stroke-opacity:1; fill:none\" points=\"\n",
       "  141.853,1486.45 141.853,47.2441 \n",
       "  \"/>\n",
       "<polyline clip-path=\"url(#clip320)\" style=\"stroke:#000000; stroke-linecap:butt; stroke-linejoin:round; stroke-width:4; stroke-opacity:1; fill:none\" points=\"\n",
       "  141.853,1445.72 160.751,1445.72 \n",
       "  \"/>\n",
       "<polyline clip-path=\"url(#clip320)\" style=\"stroke:#000000; stroke-linecap:butt; stroke-linejoin:round; stroke-width:4; stroke-opacity:1; fill:none\" points=\"\n",
       "  141.853,1160.35 160.751,1160.35 \n",
       "  \"/>\n",
       "<polyline clip-path=\"url(#clip320)\" style=\"stroke:#000000; stroke-linecap:butt; stroke-linejoin:round; stroke-width:4; stroke-opacity:1; fill:none\" points=\"\n",
       "  141.853,874.993 160.751,874.993 \n",
       "  \"/>\n",
       "<polyline clip-path=\"url(#clip320)\" style=\"stroke:#000000; stroke-linecap:butt; stroke-linejoin:round; stroke-width:4; stroke-opacity:1; fill:none\" points=\"\n",
       "  141.853,589.632 160.751,589.632 \n",
       "  \"/>\n",
       "<polyline clip-path=\"url(#clip320)\" style=\"stroke:#000000; stroke-linecap:butt; stroke-linejoin:round; stroke-width:4; stroke-opacity:1; fill:none\" points=\"\n",
       "  141.853,304.27 160.751,304.27 \n",
       "  \"/>\n",
       "<path clip-path=\"url(#clip320)\" d=\"M93.9086 1431.51 Q90.2975 1431.51 88.4688 1435.08 Q86.6632 1438.62 86.6632 1445.75 Q86.6632 1452.86 88.4688 1456.42 Q90.2975 1459.96 93.9086 1459.96 Q97.5428 1459.96 99.3483 1456.42 Q101.177 1452.86 101.177 1445.75 Q101.177 1438.62 99.3483 1435.08 Q97.5428 1431.51 93.9086 1431.51 M93.9086 1427.81 Q99.7187 1427.81 102.774 1432.42 Q105.853 1437 105.853 1445.75 Q105.853 1454.48 102.774 1459.08 Q99.7187 1463.67 93.9086 1463.67 Q88.0984 1463.67 85.0197 1459.08 Q81.9642 1454.48 81.9642 1445.75 Q81.9642 1437 85.0197 1432.42 Q88.0984 1427.81 93.9086 1427.81 Z\" fill=\"#000000\" fill-rule=\"evenodd\" fill-opacity=\"1\" /><path clip-path=\"url(#clip320)\" d=\"M57.7745 1173.7 L74.0939 1173.7 L74.0939 1177.63 L52.1495 1177.63 L52.1495 1173.7 Q54.8115 1170.94 59.3949 1166.31 Q64.0013 1161.66 65.1819 1160.32 Q67.4272 1157.8 68.3068 1156.06 Q69.2096 1154.3 69.2096 1152.61 Q69.2096 1149.86 67.2652 1148.12 Q65.3439 1146.38 62.2421 1146.38 Q60.043 1146.38 57.5893 1147.15 Q55.1588 1147.91 52.381 1149.46 L52.381 1144.74 Q55.2051 1143.61 57.6588 1143.03 Q60.1124 1142.45 62.1495 1142.45 Q67.5198 1142.45 70.7142 1145.13 Q73.9087 1147.82 73.9087 1152.31 Q73.9087 1154.44 73.0985 1156.36 Q72.3115 1158.26 70.205 1160.85 Q69.6263 1161.52 66.5245 1164.74 Q63.4226 1167.94 57.7745 1173.7 Z\" fill=\"#000000\" fill-rule=\"evenodd\" fill-opacity=\"1\" /><path clip-path=\"url(#clip320)\" d=\"M93.9086 1146.15 Q90.2975 1146.15 88.4688 1149.72 Q86.6632 1153.26 86.6632 1160.39 Q86.6632 1167.5 88.4688 1171.06 Q90.2975 1174.6 93.9086 1174.6 Q97.5428 1174.6 99.3483 1171.06 Q101.177 1167.5 101.177 1160.39 Q101.177 1153.26 99.3483 1149.72 Q97.5428 1146.15 93.9086 1146.15 M93.9086 1142.45 Q99.7187 1142.45 102.774 1147.06 Q105.853 1151.64 105.853 1160.39 Q105.853 1169.12 102.774 1173.72 Q99.7187 1178.31 93.9086 1178.31 Q88.0984 1178.31 85.0197 1173.72 Q81.9642 1169.12 81.9642 1160.39 Q81.9642 1151.64 85.0197 1147.06 Q88.0984 1142.45 93.9086 1142.45 Z\" fill=\"#000000\" fill-rule=\"evenodd\" fill-opacity=\"1\" /><path clip-path=\"url(#clip320)\" d=\"M66.5939 861.787 L54.7884 880.236 L66.5939 880.236 L66.5939 861.787 M65.367 857.713 L71.2466 857.713 L71.2466 880.236 L76.1772 880.236 L76.1772 884.125 L71.2466 884.125 L71.2466 892.273 L66.5939 892.273 L66.5939 884.125 L50.9921 884.125 L50.9921 879.611 L65.367 857.713 Z\" fill=\"#000000\" fill-rule=\"evenodd\" fill-opacity=\"1\" /><path clip-path=\"url(#clip320)\" d=\"M93.9086 860.792 Q90.2975 860.792 88.4688 864.357 Q86.6632 867.898 86.6632 875.028 Q86.6632 882.134 88.4688 885.699 Q90.2975 889.241 93.9086 889.241 Q97.5428 889.241 99.3483 885.699 Q101.177 882.134 101.177 875.028 Q101.177 867.898 99.3483 864.357 Q97.5428 860.792 93.9086 860.792 M93.9086 857.088 Q99.7187 857.088 102.774 861.694 Q105.853 866.278 105.853 875.028 Q105.853 883.755 102.774 888.361 Q99.7187 892.944 93.9086 892.944 Q88.0984 892.944 85.0197 888.361 Q81.9642 883.755 81.9642 875.028 Q81.9642 866.278 85.0197 861.694 Q88.0984 857.088 93.9086 857.088 Z\" fill=\"#000000\" fill-rule=\"evenodd\" fill-opacity=\"1\" /><path clip-path=\"url(#clip320)\" d=\"M64.3254 587.768 Q61.1773 587.768 59.3254 589.921 Q57.4967 592.074 57.4967 595.824 Q57.4967 599.551 59.3254 601.727 Q61.1773 603.879 64.3254 603.879 Q67.4735 603.879 69.3022 601.727 Q71.1541 599.551 71.1541 595.824 Q71.1541 592.074 69.3022 589.921 Q67.4735 587.768 64.3254 587.768 M73.6077 573.116 L73.6077 577.375 Q71.8485 576.541 70.0429 576.102 Q68.2606 575.662 66.5013 575.662 Q61.8717 575.662 59.418 578.787 Q56.9875 581.912 56.6402 588.231 Q58.006 586.217 60.0662 585.153 Q62.1263 584.065 64.6032 584.065 Q69.8115 584.065 72.8207 587.236 Q75.8531 590.384 75.8531 595.824 Q75.8531 601.148 72.705 604.365 Q69.5568 607.583 64.3254 607.583 Q58.33 607.583 55.1588 603 Q51.9875 598.393 51.9875 589.666 Q51.9875 581.472 55.8764 576.611 Q59.7652 571.727 66.3161 571.727 Q68.0754 571.727 69.8578 572.074 Q71.6633 572.421 73.6077 573.116 Z\" fill=\"#000000\" fill-rule=\"evenodd\" fill-opacity=\"1\" /><path clip-path=\"url(#clip320)\" d=\"M93.9086 575.43 Q90.2975 575.43 88.4688 578.995 Q86.6632 582.537 86.6632 589.666 Q86.6632 596.773 88.4688 600.338 Q90.2975 603.879 93.9086 603.879 Q97.5428 603.879 99.3483 600.338 Q101.177 596.773 101.177 589.666 Q101.177 582.537 99.3483 578.995 Q97.5428 575.43 93.9086 575.43 M93.9086 571.727 Q99.7187 571.727 102.774 576.333 Q105.853 580.916 105.853 589.666 Q105.853 598.393 102.774 603 Q99.7187 607.583 93.9086 607.583 Q88.0984 607.583 85.0197 603 Q81.9642 598.393 81.9642 589.666 Q81.9642 580.916 85.0197 576.333 Q88.0984 571.727 93.9086 571.727 Z\" fill=\"#000000\" fill-rule=\"evenodd\" fill-opacity=\"1\" /><path clip-path=\"url(#clip320)\" d=\"M63.7467 305.138 Q60.4134 305.138 58.4921 306.921 Q56.5939 308.703 56.5939 311.828 Q56.5939 314.953 58.4921 316.736 Q60.4134 318.518 63.7467 318.518 Q67.08 318.518 69.0013 316.736 Q70.9226 314.93 70.9226 311.828 Q70.9226 308.703 69.0013 306.921 Q67.1032 305.138 63.7467 305.138 M59.0708 303.148 Q56.0615 302.407 54.3717 300.347 Q52.7051 298.287 52.7051 295.324 Q52.7051 291.18 55.6449 288.773 Q58.6078 286.365 63.7467 286.365 Q68.9087 286.365 71.8485 288.773 Q74.7883 291.18 74.7883 295.324 Q74.7883 298.287 73.0985 300.347 Q71.4318 302.407 68.4457 303.148 Q71.8253 303.935 73.7003 306.226 Q75.5985 308.518 75.5985 311.828 Q75.5985 316.851 72.5198 319.536 Q69.4642 322.222 63.7467 322.222 Q58.0291 322.222 54.9504 319.536 Q51.8949 316.851 51.8949 311.828 Q51.8949 308.518 53.793 306.226 Q55.6912 303.935 59.0708 303.148 M57.3578 295.763 Q57.3578 298.449 59.0245 299.953 Q60.7143 301.458 63.7467 301.458 Q66.7559 301.458 68.4457 299.953 Q70.1587 298.449 70.1587 295.763 Q70.1587 293.078 68.4457 291.574 Q66.7559 290.069 63.7467 290.069 Q60.7143 290.069 59.0245 291.574 Q57.3578 293.078 57.3578 295.763 Z\" fill=\"#000000\" fill-rule=\"evenodd\" fill-opacity=\"1\" /><path clip-path=\"url(#clip320)\" d=\"M93.9086 290.069 Q90.2975 290.069 88.4688 293.634 Q86.6632 297.175 86.6632 304.305 Q86.6632 311.412 88.4688 314.976 Q90.2975 318.518 93.9086 318.518 Q97.5428 318.518 99.3483 314.976 Q101.177 311.412 101.177 304.305 Q101.177 297.175 99.3483 293.634 Q97.5428 290.069 93.9086 290.069 M93.9086 286.365 Q99.7187 286.365 102.774 290.972 Q105.853 295.555 105.853 304.305 Q105.853 313.032 102.774 317.638 Q99.7187 322.222 93.9086 322.222 Q88.0984 322.222 85.0197 317.638 Q81.9642 313.032 81.9642 304.305 Q81.9642 295.555 85.0197 290.972 Q88.0984 286.365 93.9086 286.365 Z\" fill=\"#000000\" fill-rule=\"evenodd\" fill-opacity=\"1\" /><circle clip-path=\"url(#clip322)\" cx=\"204.426\" cy=\"1426.9\" r=\"14\" fill=\"#009af9\" fill-rule=\"evenodd\" fill-opacity=\"1\" stroke=\"#000000\" stroke-opacity=\"1\" stroke-width=\"3.2\"/>\n",
       "<circle clip-path=\"url(#clip322)\" cx=\"413.001\" cy=\"1407.46\" r=\"14\" fill=\"#009af9\" fill-rule=\"evenodd\" fill-opacity=\"1\" stroke=\"#000000\" stroke-opacity=\"1\" stroke-width=\"3.2\"/>\n",
       "<circle clip-path=\"url(#clip322)\" cx=\"621.577\" cy=\"1402.25\" r=\"14\" fill=\"#009af9\" fill-rule=\"evenodd\" fill-opacity=\"1\" stroke=\"#000000\" stroke-opacity=\"1\" stroke-width=\"3.2\"/>\n",
       "<circle clip-path=\"url(#clip322)\" cx=\"830.153\" cy=\"1315.78\" r=\"14\" fill=\"#009af9\" fill-rule=\"evenodd\" fill-opacity=\"1\" stroke=\"#000000\" stroke-opacity=\"1\" stroke-width=\"3.2\"/>\n",
       "<circle clip-path=\"url(#clip322)\" cx=\"1038.73\" cy=\"87.9763\" r=\"14\" fill=\"#009af9\" fill-rule=\"evenodd\" fill-opacity=\"1\" stroke=\"#000000\" stroke-opacity=\"1\" stroke-width=\"3.2\"/>\n",
       "<circle clip-path=\"url(#clip322)\" cx=\"1247.3\" cy=\"173.007\" r=\"14\" fill=\"#009af9\" fill-rule=\"evenodd\" fill-opacity=\"1\" stroke=\"#000000\" stroke-opacity=\"1\" stroke-width=\"3.2\"/>\n",
       "<circle clip-path=\"url(#clip322)\" cx=\"1455.88\" cy=\"778.883\" r=\"14\" fill=\"#009af9\" fill-rule=\"evenodd\" fill-opacity=\"1\" stroke=\"#000000\" stroke-opacity=\"1\" stroke-width=\"3.2\"/>\n",
       "<circle clip-path=\"url(#clip322)\" cx=\"1664.46\" cy=\"1154.05\" r=\"14\" fill=\"#009af9\" fill-rule=\"evenodd\" fill-opacity=\"1\" stroke=\"#000000\" stroke-opacity=\"1\" stroke-width=\"3.2\"/>\n",
       "<circle clip-path=\"url(#clip322)\" cx=\"1873.03\" cy=\"1256.75\" r=\"14\" fill=\"#009af9\" fill-rule=\"evenodd\" fill-opacity=\"1\" stroke=\"#000000\" stroke-opacity=\"1\" stroke-width=\"3.2\"/>\n",
       "<circle clip-path=\"url(#clip322)\" cx=\"2081.61\" cy=\"1275.27\" r=\"14\" fill=\"#009af9\" fill-rule=\"evenodd\" fill-opacity=\"1\" stroke=\"#000000\" stroke-opacity=\"1\" stroke-width=\"3.2\"/>\n",
       "<circle clip-path=\"url(#clip322)\" cx=\"2290.18\" cy=\"1302.2\" r=\"14\" fill=\"#009af9\" fill-rule=\"evenodd\" fill-opacity=\"1\" stroke=\"#000000\" stroke-opacity=\"1\" stroke-width=\"3.2\"/>\n",
       "<circle clip-path=\"url(#clip322)\" cx=\"1110.69\" cy=\"1445.72\" r=\"14\" fill=\"#e26f46\" fill-rule=\"evenodd\" fill-opacity=\"1\" stroke=\"#000000\" stroke-opacity=\"1\" stroke-width=\"3.2\"/>\n",
       "<path clip-path=\"url(#clip320)\" d=\"\n",
       "M1980.97 250.738 L2279.06 250.738 L2279.06 95.2176 L1980.97 95.2176  Z\n",
       "  \" fill=\"#ffffff\" fill-rule=\"evenodd\" fill-opacity=\"1\"/>\n",
       "<polyline clip-path=\"url(#clip320)\" style=\"stroke:#000000; stroke-linecap:butt; stroke-linejoin:round; stroke-width:4; stroke-opacity:1; fill:none\" points=\"\n",
       "  1980.97,250.738 2279.06,250.738 2279.06,95.2176 1980.97,95.2176 1980.97,250.738 \n",
       "  \"/>\n",
       "<circle clip-path=\"url(#clip320)\" cx=\"2079.24\" cy=\"147.058\" r=\"23\" fill=\"#009af9\" fill-rule=\"evenodd\" fill-opacity=\"1\" stroke=\"#000000\" stroke-opacity=\"1\" stroke-width=\"5.12\"/>\n",
       "<path clip-path=\"url(#clip320)\" d=\"M2191.34 166.745 Q2189.53 171.375 2187.82 172.787 Q2186.11 174.199 2183.24 174.199 L2179.84 174.199 L2179.84 170.634 L2182.34 170.634 Q2184.09 170.634 2185.07 169.8 Q2186.04 168.967 2187.22 165.865 L2187.98 163.921 L2177.5 138.412 L2182.01 138.412 L2190.11 158.689 L2198.22 138.412 L2202.73 138.412 L2191.34 166.745 Z\" fill=\"#000000\" fill-rule=\"evenodd\" fill-opacity=\"1\" /><path clip-path=\"url(#clip320)\" d=\"M2210.02 160.402 L2217.66 160.402 L2217.66 134.037 L2209.35 135.703 L2209.35 131.444 L2217.61 129.778 L2222.29 129.778 L2222.29 160.402 L2229.93 160.402 L2229.93 164.338 L2210.02 164.338 L2210.02 160.402 Z\" fill=\"#000000\" fill-rule=\"evenodd\" fill-opacity=\"1\" /><circle clip-path=\"url(#clip320)\" cx=\"2079.24\" cy=\"198.898\" r=\"23\" fill=\"#e26f46\" fill-rule=\"evenodd\" fill-opacity=\"1\" stroke=\"#000000\" stroke-opacity=\"1\" stroke-width=\"5.12\"/>\n",
       "<path clip-path=\"url(#clip320)\" d=\"M2191.34 218.585 Q2189.53 223.215 2187.82 224.627 Q2186.11 226.039 2183.24 226.039 L2179.84 226.039 L2179.84 222.474 L2182.34 222.474 Q2184.09 222.474 2185.07 221.64 Q2186.04 220.807 2187.22 217.705 L2187.98 215.761 L2177.5 190.252 L2182.01 190.252 L2190.11 210.529 L2198.22 190.252 L2202.73 190.252 L2191.34 218.585 Z\" fill=\"#000000\" fill-rule=\"evenodd\" fill-opacity=\"1\" /><path clip-path=\"url(#clip320)\" d=\"M2213.24 212.242 L2229.56 212.242 L2229.56 216.178 L2207.61 216.178 L2207.61 212.242 Q2210.28 209.488 2214.86 204.858 Q2219.47 200.205 2220.65 198.863 Q2222.89 196.34 2223.77 194.604 Q2224.67 192.844 2224.67 191.155 Q2224.67 188.4 2222.73 186.664 Q2220.81 184.928 2217.71 184.928 Q2215.51 184.928 2213.05 185.692 Q2210.62 186.455 2207.84 188.006 L2207.84 183.284 Q2210.67 182.15 2213.12 181.571 Q2215.58 180.993 2217.61 180.993 Q2222.98 180.993 2226.18 183.678 Q2229.37 186.363 2229.37 190.854 Q2229.37 192.983 2228.56 194.905 Q2227.78 196.803 2225.67 199.395 Q2225.09 200.067 2221.99 203.284 Q2218.89 206.479 2213.24 212.242 Z\" fill=\"#000000\" fill-rule=\"evenodd\" fill-opacity=\"1\" /></svg>\n"
      ]
     },
     "execution_count": 39,
     "metadata": {},
     "output_type": "execute_result"
    }
   ],
   "source": [
    "scatter(Temps, autocorr_time)\n",
    "scatter!([2.269], [0])"
   ]
  },
  {
   "cell_type": "code",
   "execution_count": null,
   "id": "d9fb200e-cafc-4477-9867-259ed402b7d8",
   "metadata": {},
   "outputs": [],
   "source": []
  },
  {
   "cell_type": "markdown",
   "id": "50674b22-a46c-4c51-bf3d-41cb36faff19",
   "metadata": {},
   "source": [
    "# Making Uncorrelated Measurements"
   ]
  },
  {
   "cell_type": "code",
   "execution_count": 40,
   "id": "48c9c02e-e13b-410a-8eab-00ccb39be45f",
   "metadata": {},
   "outputs": [
    {
     "data": {
      "text/plain": [
       "11-element Vector{Int64}:\n",
       "  200\n",
       "  300\n",
       "  400\n",
       " 1000\n",
       " 9600\n",
       " 9000\n",
       " 4700\n",
       " 2100\n",
       " 1400\n",
       " 1200\n",
       " 1100"
      ]
     },
     "execution_count": 40,
     "metadata": {},
     "output_type": "execute_result"
    }
   ],
   "source": [
    "N = 10  # Lattice size\n",
    "Nr = 50  # Number of uncorrelated measurements\n",
    "spins = ones(N, N)  # T = 0\n",
    "uncorrelated_spins = zeros(N, N, Nr);\n",
    "\n",
    "eqsteps = 2000\n",
    "uncorr_measurement_times = 2 .* ceil.(autocorr_time)\n",
    "nsteps_uncorr = convert.(Int64, Nr.*uncorr_measurement_times)"
   ]
  },
  {
   "cell_type": "code",
   "execution_count": 14,
   "id": "bb1af695-faf4-480c-8e56-27075f05e9be",
   "metadata": {},
   "outputs": [],
   "source": [
    "for stepT in 1:1 #length(Temps)\n",
    "    T = 2.0\n",
    "    # equilibration\n",
    "    E0, M0 = total_energy(spins), total_magnetization(spins)\n",
    "    for i in 1:eqsteps\n",
    "        E0, M0 = ising_metropolis_sweep!(spins, T, E0, M0)\n",
    "    end\n",
    "\n",
    "    # uncorrelated measurements\n",
    "    for j in 1:200\n",
    "        E0, M0 = ising_metropolis_sweep!(spins, T, E0, M0)\n",
    "        if j%4 == 0\n",
    "            uncorrelated_spins[:, :, j÷4] = spins\n",
    "        end\n",
    "    end\n",
    "end"
   ]
  },
  {
   "cell_type": "code",
   "execution_count": 15,
   "id": "d05439b2-ac6b-468b-bab9-162bcc76fecf",
   "metadata": {},
   "outputs": [
    {
     "data": {
      "text/plain": [
       "10×10×50 Array{Float64, 3}:\n",
       "[:, :, 1] =\n",
       " 1.0  1.0  1.0  1.0  1.0  1.0  1.0  1.0   1.0  1.0\n",
       " 1.0  1.0  1.0  1.0  1.0  1.0  1.0  1.0   1.0  1.0\n",
       " 1.0  1.0  1.0  1.0  1.0  1.0  1.0  1.0   1.0  1.0\n",
       " 1.0  1.0  1.0  1.0  1.0  1.0  1.0  1.0  -1.0  1.0\n",
       " 1.0  1.0  1.0  1.0  1.0  1.0  1.0  1.0   1.0  1.0\n",
       " 1.0  1.0  1.0  1.0  1.0  1.0  1.0  1.0   1.0  1.0\n",
       " 1.0  1.0  1.0  1.0  1.0  1.0  1.0  1.0   1.0  1.0\n",
       " 1.0  1.0  1.0  1.0  1.0  1.0  1.0  1.0   1.0  1.0\n",
       " 1.0  1.0  1.0  1.0  1.0  1.0  1.0  1.0   1.0  1.0\n",
       " 1.0  1.0  1.0  1.0  1.0  1.0  1.0  1.0   1.0  1.0\n",
       "\n",
       "[:, :, 2] =\n",
       " 1.0  1.0  1.0   1.0  1.0  1.0   1.0  1.0  1.0  1.0\n",
       " 1.0  1.0  1.0   1.0  1.0  1.0  -1.0  1.0  1.0  1.0\n",
       " 1.0  1.0  1.0   1.0  1.0  1.0   1.0  1.0  1.0  1.0\n",
       " 1.0  1.0  1.0   1.0  1.0  1.0   1.0  1.0  1.0  1.0\n",
       " 1.0  1.0  1.0   1.0  1.0  1.0   1.0  1.0  1.0  1.0\n",
       " 1.0  1.0  1.0   1.0  1.0  1.0   1.0  1.0  1.0  1.0\n",
       " 1.0  1.0  1.0   1.0  1.0  1.0   1.0  1.0  1.0  1.0\n",
       " 1.0  1.0  1.0   1.0  1.0  1.0   1.0  1.0  1.0  1.0\n",
       " 1.0  1.0  1.0   1.0  1.0  1.0   1.0  1.0  1.0  1.0\n",
       " 1.0  1.0  1.0  -1.0  1.0  1.0   1.0  1.0  1.0  1.0\n",
       "\n",
       "[:, :, 3] =\n",
       " 1.0   1.0  1.0  1.0  -1.0  -1.0  1.0  1.0  1.0  1.0\n",
       " 1.0  -1.0  1.0  1.0   1.0   1.0  1.0  1.0  1.0  1.0\n",
       " 1.0   1.0  1.0  1.0   1.0   1.0  1.0  1.0  1.0  1.0\n",
       " 1.0   1.0  1.0  1.0   1.0   1.0  1.0  1.0  1.0  1.0\n",
       " 1.0   1.0  1.0  1.0   1.0   1.0  1.0  1.0  1.0  1.0\n",
       " 1.0   1.0  1.0  1.0   1.0   1.0  1.0  1.0  1.0  1.0\n",
       " 1.0   1.0  1.0  1.0   1.0   1.0  1.0  1.0  1.0  1.0\n",
       " 1.0   1.0  1.0  1.0   1.0   1.0  1.0  1.0  1.0  1.0\n",
       " 1.0   1.0  1.0  1.0   1.0   1.0  1.0  1.0  1.0  1.0\n",
       " 1.0   1.0  1.0  1.0   1.0   1.0  1.0  1.0  1.0  1.0\n",
       "\n",
       "...\n",
       "\n",
       "[:, :, 48] =\n",
       " 1.0   1.0  1.0   1.0  1.0  1.0  1.0  1.0  1.0  1.0\n",
       " 1.0   1.0  1.0   1.0  1.0  1.0  1.0  1.0  1.0  1.0\n",
       " 1.0   1.0  1.0   1.0  1.0  1.0  1.0  1.0  1.0  1.0\n",
       " 1.0   1.0  1.0   1.0  1.0  1.0  1.0  1.0  1.0  1.0\n",
       " 1.0  -1.0  1.0   1.0  1.0  1.0  1.0  1.0  1.0  1.0\n",
       " 1.0   1.0  1.0   1.0  1.0  1.0  1.0  1.0  1.0  1.0\n",
       " 1.0   1.0  1.0   1.0  1.0  1.0  1.0  1.0  1.0  1.0\n",
       " 1.0   1.0  1.0   1.0  1.0  1.0  1.0  1.0  1.0  1.0\n",
       " 1.0   1.0  1.0   1.0  1.0  1.0  1.0  1.0  1.0  1.0\n",
       " 1.0   1.0  1.0  -1.0  1.0  1.0  1.0  1.0  1.0  1.0\n",
       "\n",
       "[:, :, 49] =\n",
       " 1.0  1.0   1.0  1.0  1.0  1.0   1.0   1.0  1.0  1.0\n",
       " 1.0  1.0   1.0  1.0  1.0  1.0   1.0   1.0  1.0  1.0\n",
       " 1.0  1.0   1.0  1.0  1.0  1.0   1.0   1.0  1.0  1.0\n",
       " 1.0  1.0   1.0  1.0  1.0  1.0   1.0   1.0  1.0  1.0\n",
       " 1.0  1.0  -1.0  1.0  1.0  1.0   1.0   1.0  1.0  1.0\n",
       " 1.0  1.0   1.0  1.0  1.0  1.0   1.0   1.0  1.0  1.0\n",
       " 1.0  1.0   1.0  1.0  1.0  1.0   1.0   1.0  1.0  1.0\n",
       " 1.0  1.0   1.0  1.0  1.0  1.0  -1.0   1.0  1.0  1.0\n",
       " 1.0  1.0   1.0  1.0  1.0  1.0  -1.0   1.0  1.0  1.0\n",
       " 1.0  1.0   1.0  1.0  1.0  1.0   1.0  -1.0  1.0  1.0\n",
       "\n",
       "[:, :, 50] =\n",
       " 1.0  1.0  1.0  1.0  1.0  1.0  1.0   1.0   1.0  1.0\n",
       " 1.0  1.0  1.0  1.0  1.0  1.0  1.0   1.0   1.0  1.0\n",
       " 1.0  1.0  1.0  1.0  1.0  1.0  1.0   1.0   1.0  1.0\n",
       " 1.0  1.0  1.0  1.0  1.0  1.0  1.0   1.0   1.0  1.0\n",
       " 1.0  1.0  1.0  1.0  1.0  1.0  1.0   1.0   1.0  1.0\n",
       " 1.0  1.0  1.0  1.0  1.0  1.0  1.0   1.0   1.0  1.0\n",
       " 1.0  1.0  1.0  1.0  1.0  1.0  1.0   1.0   1.0  1.0\n",
       " 1.0  1.0  1.0  1.0  1.0  1.0  1.0   1.0  -1.0  1.0\n",
       " 1.0  1.0  1.0  1.0  1.0  1.0  1.0  -1.0   1.0  1.0\n",
       " 1.0  1.0  1.0  1.0  1.0  1.0  1.0   1.0   1.0  1.0"
      ]
     },
     "execution_count": 15,
     "metadata": {},
     "output_type": "execute_result"
    }
   ],
   "source": [
    "uncorrelated_spins"
   ]
  },
  {
   "cell_type": "code",
   "execution_count": null,
   "id": "975cfc1d-68ec-4658-aac9-245ca9e70bc7",
   "metadata": {},
   "outputs": [],
   "source": []
  }
 ],
 "metadata": {
  "kernelspec": {
   "display_name": "Julia 1.6.3",
   "language": "julia",
   "name": "julia-1.6"
  },
  "language_info": {
   "file_extension": ".jl",
   "mimetype": "application/julia",
   "name": "julia",
   "version": "1.6.3"
  },
  "toc-autonumbering": false,
  "toc-showcode": false,
  "toc-showmarkdowntxt": false
 },
 "nbformat": 4,
 "nbformat_minor": 5
}
