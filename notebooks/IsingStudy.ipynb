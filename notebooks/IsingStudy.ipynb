{
 "cells": [
  {
   "cell_type": "code",
   "execution_count": 1,
   "id": "0a368c20-6011-4fb3-9050-a2e1a703b46b",
   "metadata": {},
   "outputs": [],
   "source": [
    "using Plots\n",
    "using Statistics\n",
    "using CSV\n",
    "using DataFrames"
   ]
  },
  {
   "cell_type": "code",
   "execution_count": 2,
   "id": "53abc8af-d9ab-4155-bb75-0f76d7b6d09d",
   "metadata": {},
   "outputs": [
    {
     "data": {
      "text/plain": [
       "ising_metropolis_sweep!"
      ]
     },
     "execution_count": 2,
     "metadata": {},
     "output_type": "execute_result"
    }
   ],
   "source": [
    "\"\"\"\n",
    "    ising_metropolis_sweep(spins, T, E, M)\n",
    "\n",
    "Perform one sweep of the lattice using single-spin-flip dynamics (1 sweep == N*N flip attempts).\n",
    "Here arguments E and M are the total energy and total magnetization before the sweep.\n",
    "Returns total energy and magnetization after sweep.\n",
    "\"\"\"\n",
    "function ising_metropolis_sweep!(spins, T, E, M)\n",
    "    N = size(spins)[1]\n",
    "    for i=1:N^2\n",
    "        k = rand(1:N, 2)\n",
    "        ΔE = deltaE(spins, k, N)\n",
    "        if accept_flip(ΔE, T)\n",
    "            spins[k[1], k[2]] *= -1\n",
    "            E = E + ΔE\n",
    "            M = M + 2spins[k[1], k[2]]\n",
    "        end\n",
    "    end\n",
    "    return E, M\n",
    "end"
   ]
  },
  {
   "cell_type": "code",
   "execution_count": 3,
   "id": "00b3bf8b-98a5-44e2-9bf7-926771183f39",
   "metadata": {},
   "outputs": [
    {
     "data": {
      "text/plain": [
       "accept_flip"
      ]
     },
     "execution_count": 3,
     "metadata": {},
     "output_type": "execute_result"
    }
   ],
   "source": [
    "\"\"\"\n",
    "    accept_flip(spins, N, k_i, k_j, T)\n",
    "\n",
    "Determine whether to accept the next state or not according to Metropolis acceptance rates.\n",
    "Returns `true` or `false`.\n",
    "\"\"\"\n",
    "function accept_flip(ΔE, T)\n",
    "    # Metropolis Acceptance Rates\n",
    "    if ΔE <= 0\n",
    "        return true\n",
    "    elseif rand() < exp(-ΔE/T)\n",
    "        return true\n",
    "    else\n",
    "        return false\n",
    "    end\n",
    "end"
   ]
  },
  {
   "cell_type": "code",
   "execution_count": 4,
   "id": "a724d49c-4a49-44bd-82e4-4378cd340c4b",
   "metadata": {},
   "outputs": [
    {
     "data": {
      "text/plain": [
       "deltaE"
      ]
     },
     "execution_count": 4,
     "metadata": {},
     "output_type": "execute_result"
    }
   ],
   "source": [
    "\"\"\"\n",
    "    delta_E(spins, k)\n",
    "\n",
    "Calculate the energy difference between two states for one spin flip at site k.\n",
    "\"\"\"\n",
    "function deltaE(spins, k, N)\n",
    "    ΔE = 0\n",
    "    for δ ∈ ([1, 0], [N-1, 0], [0, 1], [0, N-1])\n",
    "        nn = k + δ\n",
    "        @. nn = mod1(nn, N)  # Apply periodic boundary conditions\n",
    "        ΔE += spins[nn[1], nn[2]]\n",
    "    end\n",
    "    ΔE *= 2spins[k[1], k[2]]\n",
    "end"
   ]
  },
  {
   "cell_type": "code",
   "execution_count": 5,
   "id": "e731621e-9bbb-42c4-aff3-f39b90dbb52d",
   "metadata": {},
   "outputs": [
    {
     "data": {
      "text/plain": [
       "total_magnetization"
      ]
     },
     "execution_count": 5,
     "metadata": {},
     "output_type": "execute_result"
    }
   ],
   "source": [
    "\"\"\"\n",
    "    total_magnetization(spins)\n",
    "\n",
    "Calculate the total magnetization of square spin lattice.\n",
    "\"\"\"\n",
    "function total_magnetization(spins)\n",
    "    return sum(sum(spins))\n",
    "end"
   ]
  },
  {
   "cell_type": "code",
   "execution_count": 6,
   "id": "9b87a6f1-97fe-4f39-b296-4a510ddc5cbf",
   "metadata": {},
   "outputs": [
    {
     "data": {
      "text/plain": [
       "total_energy"
      ]
     },
     "execution_count": 6,
     "metadata": {},
     "output_type": "execute_result"
    }
   ],
   "source": [
    "\"\"\"\n",
    "    total_energy(spins)\n",
    "\n",
    "Calculate the total energy of the square spin lattice (with zero field and J=1).\n",
    "\"\"\"\n",
    "function total_energy(spins)\n",
    "    N = size(spins)[1]\n",
    "    running_sum = 0\n",
    "    for i=1:N\n",
    "        for j=1:N\n",
    "            s_k = spins[i, j]\n",
    "            for δ ∈ ([1, 0], [N-1, 0], [0, 1], [0, N-1])\n",
    "                nn = [i, j] + δ\n",
    "                @. nn = mod1(nn, N)  # Apply periodic boundary conditions\n",
    "                running_sum += s_k*spins[nn[1], nn[2]]\n",
    "            end\n",
    "        end\n",
    "    end\n",
    "    return -running_sum / 2  # divide by 2 because each bond counted twice\n",
    "end"
   ]
  },
  {
   "cell_type": "code",
   "execution_count": 7,
   "id": "997c0fa7-b2b6-4f63-a2f3-46cdc8fb4d08",
   "metadata": {},
   "outputs": [
    {
     "data": {
      "text/plain": [
       "autocorrelation_fn"
      ]
     },
     "execution_count": 7,
     "metadata": {},
     "output_type": "execute_result"
    }
   ],
   "source": [
    "\"\"\"\n",
    "    autocorrelation_fn(mags, N)\n",
    "\n",
    "Calculate the autocorrelation function (normalized) of the given time series array.\n",
    "\"\"\"\n",
    "function autocorrelation_fn(series, N)\n",
    "    tmax = length(series)\n",
    "    autocorr = zeros(Float64, tmax)\n",
    "    for t ∈ 1:tmax-1\n",
    "        sum1 = 0\n",
    "        sum2 = 0\n",
    "        sum3 = 0\n",
    "        for tk ∈ 1:tmax-t\n",
    "            sum1 += series[tk]*series[tk+t]\n",
    "            sum2 += series[tk]\n",
    "            sum3 += series[tk+t]\n",
    "        end\n",
    "        autocorr[t] = sum1 / (tmax-t) - (sum2*sum3) / (tmax - t)^2\n",
    "    end\n",
    "    @. autocorr /= N^2\n",
    "    @. autocorr /= autocorr[1]\n",
    "    return autocorr\n",
    "end"
   ]
  },
  {
   "cell_type": "code",
   "execution_count": 8,
   "id": "b08267ce-e344-40df-8132-d86ff7a2a7ee",
   "metadata": {},
   "outputs": [
    {
     "data": {
      "text/plain": [
       "bootstrap_err"
      ]
     },
     "execution_count": 8,
     "metadata": {},
     "output_type": "execute_result"
    }
   ],
   "source": [
    "\"\"\"\n",
    "    bootstrap_err(samples, calc_qty; r=100)\n",
    "\n",
    "Estimate the error in the given samples by bootstrap method. `calc_qty` is the function to calculate the quantity in which error has to be calculated. `r` is a keyword arguments giving number of resamples.\n",
    "\"\"\"\n",
    "function bootstrap_err(samples, calc_qty, args...; r=100)\n",
    "    nob = length(samples)\n",
    "    resample_arr = zeros(Float64, nob)\n",
    "    for i=1:r\n",
    "        resample = rand(samples, nob)\n",
    "        resample_arr[i] = calc_qty(resample, args...)\n",
    "    end\n",
    "    err = std(resample_arr, corrected=false)\n",
    "    return err\n",
    "end"
   ]
  },
  {
   "cell_type": "code",
   "execution_count": 9,
   "id": "162b62fc-bcce-4181-8e58-2fa0adda4641",
   "metadata": {},
   "outputs": [
    {
     "data": {
      "text/plain": [
       "specific_heat"
      ]
     },
     "execution_count": 9,
     "metadata": {},
     "output_type": "execute_result"
    }
   ],
   "source": [
    "\"\"\"\n",
    "    specific_heat(u_vals, T, N)\n",
    "\n",
    "Calculate the specific heat from given array of internal energy per site (`N²` sites) at temperature `T`.\n",
    "\"\"\"\n",
    "function specific_heat(u_vals, T, N)\n",
    "    return (T^-2) * N^2 * var(u_vals, corrected=false)\n",
    "end"
   ]
  },
  {
   "cell_type": "code",
   "execution_count": 10,
   "id": "12525777-87d9-408e-82c8-a2d4c40383c0",
   "metadata": {
    "tags": []
   },
   "outputs": [
    {
     "data": {
      "text/plain": [
       "succeptibility"
      ]
     },
     "execution_count": 10,
     "metadata": {},
     "output_type": "execute_result"
    }
   ],
   "source": [
    "\"\"\"\n",
    "    succeptibility(m_vals, T, N)\n",
    "\n",
    "Calculate the succeptibility from given array of mean magnetization per site (`N²` sites) at temperature `T`.\n",
    "\"\"\"\n",
    "function succeptibility(m_vals, T, N)\n",
    "    return (T^-2) * N^2 * var(m_vals, corrected=false)\n",
    "end"
   ]
  },
  {
   "cell_type": "code",
   "execution_count": 11,
   "id": "4e1fb4e3-5cbf-4d35-8785-965dc6df39fe",
   "metadata": {},
   "outputs": [],
   "source": [
    "N = 20  # Lattice size\n",
    "# spins = ones(N, N)  # T = 0\n",
    "spins = rand([-1, 1], (N, N))  # T = ∞\n",
    "# T = 2.2\n",
    "eqsteps = 2000  # Number of steps for equilibration\n",
    "nsteps = 6000  # Number of steps for measurements\n",
    "# heatmap(spins, color=:winter)\n",
    "\n",
    "Temps = collect(1.4:0.2:3.4)\n",
    "autocorr_time = zeros(Float64, length(Temps))\n",
    "for stepT in 1:length(Temps)\n",
    "    T = Temps[stepT]\n",
    "    # Equilibration\n",
    "    E0, M0 = total_energy(spins), total_magnetization(spins)\n",
    "    for i in 1:eqsteps\n",
    "        E0, M0 = ising_metropolis_sweep!(spins, T, E0, M0)\n",
    "    end\n",
    "    \n",
    "    mags = zeros(Float64, nsteps)\n",
    "    mags[1] = M0\n",
    "\n",
    "    for i in 1:nsteps-1\n",
    "        E0, mags[i+1] = ising_metropolis_sweep!(spins, T, E0, mags[i])\n",
    "    end\n",
    "    \n",
    "    @. mags /= N^2\n",
    "    autocorr = autocorrelation_fn(mags, N)\n",
    "    autocorr_time[stepT] = sum(autocorr[1:120]) \n",
    "end"
   ]
  },
  {
   "cell_type": "markdown",
   "id": "50674b22-a46c-4c51-bf3d-41cb36faff19",
   "metadata": {},
   "source": [
    "# Making Uncorrelated Measurements"
   ]
  },
  {
   "cell_type": "code",
   "execution_count": 12,
   "id": "48c9c02e-e13b-410a-8eab-00ccb39be45f",
   "metadata": {},
   "outputs": [
    {
     "data": {
      "text/plain": [
       "11-element Vector{Int64}:\n",
       "  300\n",
       "  300\n",
       "  300\n",
       " 2100\n",
       " 9600\n",
       " 8800\n",
       " 4900\n",
       " 2100\n",
       "  800\n",
       "  900\n",
       "  500"
      ]
     },
     "execution_count": 12,
     "metadata": {},
     "output_type": "execute_result"
    }
   ],
   "source": [
    "N = 10  # Lattice size\n",
    "Nr = 50  # Number of uncorrelated measurements\n",
    "spins = ones(N, N)  # T = 0\n",
    "uncorrelated_spins = zeros(N, N, Nr);\n",
    "\n",
    "eqsteps = 2000\n",
    "uncorr_measurement_times = 2 .* ceil.(autocorr_time)\n",
    "nsteps_uncorr = convert.(Int64, Nr.*uncorr_measurement_times)"
   ]
  },
  {
   "cell_type": "code",
   "execution_count": 13,
   "id": "bb1af695-faf4-480c-8e56-27075f05e9be",
   "metadata": {},
   "outputs": [],
   "source": [
    "for stepT in 1:1 #length(Temps)\n",
    "    T = 2.2\n",
    "    # equilibration\n",
    "    E0, M0 = total_energy(spins), total_magnetization(spins)\n",
    "    for i in 1:eqsteps\n",
    "        E0, M0 = ising_metropolis_sweep!(spins, T, E0, M0)\n",
    "    end\n",
    "\n",
    "    # uncorrelated measurements\n",
    "    for j in 1:200\n",
    "        E0, M0 = ising_metropolis_sweep!(spins, T, E0, M0)\n",
    "        if j%4 == 0\n",
    "            uncorrelated_spins[:, :, j÷4] = spins\n",
    "        end\n",
    "    end\n",
    "end"
   ]
  },
  {
   "cell_type": "code",
   "execution_count": 14,
   "id": "d05439b2-ac6b-468b-bab9-162bcc76fecf",
   "metadata": {},
   "outputs": [
    {
     "data": {
      "text/plain": [
       "10×10×50 Array{Float64, 3}:\n",
       "[:, :, 1] =\n",
       " -1.0  -1.0  -1.0  -1.0  -1.0  -1.0  -1.0  -1.0  -1.0  -1.0\n",
       " -1.0  -1.0  -1.0  -1.0  -1.0  -1.0  -1.0  -1.0  -1.0  -1.0\n",
       " -1.0  -1.0  -1.0  -1.0  -1.0  -1.0  -1.0  -1.0  -1.0  -1.0\n",
       " -1.0  -1.0  -1.0  -1.0  -1.0  -1.0  -1.0  -1.0   1.0  -1.0\n",
       " -1.0  -1.0  -1.0  -1.0   1.0  -1.0  -1.0  -1.0  -1.0  -1.0\n",
       " -1.0  -1.0  -1.0  -1.0  -1.0  -1.0   1.0  -1.0  -1.0  -1.0\n",
       " -1.0  -1.0  -1.0  -1.0  -1.0   1.0  -1.0  -1.0  -1.0  -1.0\n",
       " -1.0  -1.0  -1.0  -1.0  -1.0  -1.0  -1.0  -1.0  -1.0  -1.0\n",
       " -1.0  -1.0  -1.0  -1.0  -1.0  -1.0  -1.0  -1.0  -1.0  -1.0\n",
       " -1.0  -1.0  -1.0  -1.0  -1.0  -1.0  -1.0  -1.0  -1.0  -1.0\n",
       "\n",
       "[:, :, 2] =\n",
       " -1.0  -1.0  -1.0  -1.0  -1.0  -1.0  -1.0  -1.0  -1.0  -1.0\n",
       " -1.0  -1.0  -1.0  -1.0  -1.0  -1.0  -1.0  -1.0  -1.0  -1.0\n",
       " -1.0  -1.0  -1.0  -1.0  -1.0   1.0  -1.0  -1.0  -1.0  -1.0\n",
       " -1.0  -1.0  -1.0  -1.0   1.0   1.0  -1.0  -1.0  -1.0  -1.0\n",
       " -1.0  -1.0  -1.0  -1.0  -1.0   1.0  -1.0  -1.0  -1.0  -1.0\n",
       " -1.0  -1.0  -1.0  -1.0  -1.0  -1.0  -1.0  -1.0  -1.0  -1.0\n",
       " -1.0  -1.0  -1.0  -1.0  -1.0  -1.0  -1.0  -1.0  -1.0  -1.0\n",
       " -1.0  -1.0  -1.0  -1.0  -1.0  -1.0  -1.0  -1.0  -1.0  -1.0\n",
       " -1.0  -1.0   1.0  -1.0  -1.0  -1.0  -1.0  -1.0  -1.0  -1.0\n",
       " -1.0  -1.0   1.0  -1.0   1.0  -1.0  -1.0  -1.0  -1.0  -1.0\n",
       "\n",
       "[:, :, 3] =\n",
       " -1.0  -1.0  -1.0  -1.0  -1.0  -1.0  -1.0  -1.0  -1.0  -1.0\n",
       " -1.0  -1.0  -1.0  -1.0  -1.0   1.0  -1.0  -1.0  -1.0  -1.0\n",
       " -1.0  -1.0  -1.0  -1.0  -1.0  -1.0  -1.0  -1.0  -1.0  -1.0\n",
       " -1.0  -1.0  -1.0  -1.0  -1.0  -1.0  -1.0  -1.0  -1.0  -1.0\n",
       " -1.0  -1.0  -1.0  -1.0  -1.0  -1.0  -1.0  -1.0  -1.0  -1.0\n",
       " -1.0  -1.0  -1.0  -1.0  -1.0  -1.0  -1.0  -1.0  -1.0  -1.0\n",
       " -1.0  -1.0  -1.0  -1.0  -1.0  -1.0  -1.0   1.0  -1.0  -1.0\n",
       " -1.0  -1.0  -1.0  -1.0  -1.0  -1.0  -1.0  -1.0  -1.0  -1.0\n",
       " -1.0  -1.0  -1.0  -1.0  -1.0   1.0  -1.0  -1.0  -1.0  -1.0\n",
       " -1.0  -1.0  -1.0  -1.0  -1.0  -1.0  -1.0   1.0  -1.0  -1.0\n",
       "\n",
       "...\n",
       "\n",
       "[:, :, 48] =\n",
       "  1.0  1.0   1.0   1.0   1.0   1.0   1.0   1.0   1.0  -1.0\n",
       "  1.0  1.0   1.0   1.0   1.0   1.0   1.0   1.0   1.0   1.0\n",
       "  1.0  1.0   1.0   1.0   1.0   1.0  -1.0   1.0   1.0   1.0\n",
       "  1.0  1.0   1.0   1.0   1.0   1.0   1.0  -1.0  -1.0   1.0\n",
       "  1.0  1.0  -1.0  -1.0  -1.0  -1.0  -1.0  -1.0  -1.0   1.0\n",
       "  1.0  1.0  -1.0  -1.0  -1.0  -1.0  -1.0  -1.0  -1.0   1.0\n",
       "  1.0  1.0   1.0  -1.0   1.0  -1.0  -1.0  -1.0  -1.0   1.0\n",
       " -1.0  1.0   1.0  -1.0   1.0  -1.0  -1.0  -1.0  -1.0  -1.0\n",
       " -1.0  1.0   1.0   1.0   1.0  -1.0  -1.0  -1.0  -1.0  -1.0\n",
       "  1.0  1.0   1.0   1.0   1.0  -1.0   1.0   1.0  -1.0  -1.0\n",
       "\n",
       "[:, :, 49] =\n",
       " 1.0  1.0   1.0   1.0   1.0   1.0   1.0   1.0   1.0  1.0\n",
       " 1.0  1.0  -1.0   1.0   1.0   1.0  -1.0   1.0   1.0  1.0\n",
       " 1.0  1.0   1.0   1.0   1.0   1.0   1.0   1.0   1.0  1.0\n",
       " 1.0  1.0   1.0  -1.0  -1.0  -1.0   1.0   1.0   1.0  1.0\n",
       " 1.0  1.0   1.0   1.0  -1.0  -1.0   1.0   1.0   1.0  1.0\n",
       " 1.0  1.0   1.0   1.0  -1.0  -1.0  -1.0  -1.0  -1.0  1.0\n",
       " 1.0  1.0   1.0   1.0  -1.0  -1.0  -1.0  -1.0  -1.0  1.0\n",
       " 1.0  1.0   1.0   1.0   1.0  -1.0  -1.0  -1.0   1.0  1.0\n",
       " 1.0  1.0   1.0   1.0   1.0  -1.0  -1.0  -1.0   1.0  1.0\n",
       " 1.0  1.0   1.0   1.0   1.0  -1.0  -1.0  -1.0   1.0  1.0\n",
       "\n",
       "[:, :, 50] =\n",
       " 1.0  1.0   1.0  -1.0  -1.0  -1.0  -1.0   1.0   1.0  1.0\n",
       " 1.0  1.0   1.0   1.0   1.0   1.0   1.0   1.0   1.0  1.0\n",
       " 1.0  1.0  -1.0   1.0   1.0   1.0   1.0   1.0   1.0  1.0\n",
       " 1.0  1.0   1.0   1.0  -1.0   1.0   1.0   1.0   1.0  1.0\n",
       " 1.0  1.0   1.0   1.0   1.0   1.0   1.0   1.0   1.0  1.0\n",
       " 1.0  1.0   1.0   1.0   1.0   1.0  -1.0  -1.0   1.0  1.0\n",
       " 1.0  1.0   1.0   1.0   1.0   1.0  -1.0  -1.0  -1.0  1.0\n",
       " 1.0  1.0   1.0   1.0  -1.0  -1.0  -1.0  -1.0   1.0  1.0\n",
       " 1.0  1.0  -1.0  -1.0  -1.0  -1.0  -1.0   1.0   1.0  1.0\n",
       " 1.0  1.0   1.0   1.0  -1.0  -1.0  -1.0   1.0   1.0  1.0"
      ]
     },
     "execution_count": 14,
     "metadata": {},
     "output_type": "execute_result"
    }
   ],
   "source": [
    "uncorrelated_spins"
   ]
  },
  {
   "cell_type": "code",
   "execution_count": 16,
   "id": "c9f67255-702c-45b6-b0c5-2f22b36bb962",
   "metadata": {},
   "outputs": [
    {
     "name": "stderr",
     "output_type": "stream",
     "text": [
      "┌ Info: Precompiling ScikitLearn [3646fa90-6ef7-5e7e-9f22-8aca16db6324]\n",
      "└ @ Base loading.jl:1342\n"
     ]
    }
   ],
   "source": [
    "using ScikitLearn"
   ]
  },
  {
   "cell_type": "code",
   "execution_count": 18,
   "id": "884c5018-33cf-429a-8a11-d1b0e92e786a",
   "metadata": {},
   "outputs": [
    {
     "data": {
      "text/plain": [
       "PyObject <class 'sklearn.neighbors._unsupervised.NearestNeighbors'>"
      ]
     },
     "execution_count": 18,
     "metadata": {},
     "output_type": "execute_result"
    }
   ],
   "source": [
    "@sk_import neighbors: NearestNeighbors"
   ]
  },
  {
   "cell_type": "code",
   "execution_count": 29,
   "id": "d18e5dbd-ffc5-4c88-8c8c-5aa6b75318c1",
   "metadata": {},
   "outputs": [
    {
     "data": {
      "text/plain": [
       "PyObject NearestNeighbors(algorithm='ball_tree', n_neighbors=3)"
      ]
     },
     "execution_count": 29,
     "metadata": {},
     "output_type": "execute_result"
    }
   ],
   "source": [
    "nbrs = fit!(NearestNeighbors(n_neighbors=3, algorithm=\"ball_tree\"), [reshape(uncorrelated_spins[:,:, i], N*N) for i=1:Nr])"
   ]
  },
  {
   "cell_type": "code",
   "execution_count": 34,
   "id": "ec30e0c5-768f-484c-b989-971a34350da7",
   "metadata": {},
   "outputs": [
    {
     "data": {
      "text/plain": [
       "([0.0 4.47213595499958 4.898979485566356; 0.0 5.656854249492381 5.656854249492381; … ; 0.0 9.591663046625438 10.770329614269007; 0.0 9.591663046625438 11.489125293076057], [0 3 12; 1 24 3; … ; 48 49 47; 49 48 42])"
      ]
     },
     "execution_count": 34,
     "metadata": {},
     "output_type": "execute_result"
    }
   ],
   "source": [
    "dists, idxs = NearestNeighbors.kneighbors(nbrs, [reshape(uncorrelated_spins[:,:, i], N*N) for i=1:Nr])"
   ]
  },
  {
   "cell_type": "code",
   "execution_count": 39,
   "id": "40cd0543-810a-4eb0-a6c9-0f2160773879",
   "metadata": {},
   "outputs": [
    {
     "data": {
      "text/plain": [
       "7.75052328974008"
      ]
     },
     "execution_count": 39,
     "metadata": {},
     "output_type": "execute_result"
    }
   ],
   "source": [
    "mean(dists[:, 3])"
   ]
  },
  {
   "cell_type": "code",
   "execution_count": null,
   "id": "c3347d8b-0594-4ce7-bd12-9ab34d0b5737",
   "metadata": {},
   "outputs": [],
   "source": []
  }
 ],
 "metadata": {
  "kernelspec": {
   "display_name": "Julia 1.6.3",
   "language": "julia",
   "name": "julia-1.6"
  },
  "language_info": {
   "file_extension": ".jl",
   "mimetype": "application/julia",
   "name": "julia",
   "version": "1.6.3"
  },
  "toc-autonumbering": false,
  "toc-showcode": false,
  "toc-showmarkdowntxt": false
 },
 "nbformat": 4,
 "nbformat_minor": 5
}
