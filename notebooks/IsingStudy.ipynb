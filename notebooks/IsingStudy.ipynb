{
 "cells": [
  {
   "cell_type": "code",
   "execution_count": 1,
   "id": "0a368c20-6011-4fb3-9050-a2e1a703b46b",
   "metadata": {},
   "outputs": [],
   "source": [
    "using Plots\n",
    "using Statistics\n",
    "using CSV\n",
    "using DataFrames"
   ]
  },
  {
   "cell_type": "code",
   "execution_count": 2,
   "id": "53abc8af-d9ab-4155-bb75-0f76d7b6d09d",
   "metadata": {},
   "outputs": [
    {
     "data": {
      "text/plain": [
       "ising_metropolis_sweep!"
      ]
     },
     "execution_count": 2,
     "metadata": {},
     "output_type": "execute_result"
    }
   ],
   "source": [
    "\"\"\"\n",
    "    ising_metropolis_sweep(spins, T, E, M)\n",
    "\n",
    "Perform one sweep of the lattice using single-spin-flip dynamics (1 sweep == N*N flip attempts).\n",
    "Here arguments E and M are the total energy and total magnetization before the sweep.\n",
    "Returns total energy and magnetization after sweep.\n",
    "\"\"\"\n",
    "function ising_metropolis_sweep!(spins, T, E, M)\n",
    "    N = size(spins)[1]\n",
    "    for i=1:N^2\n",
    "        k = rand(1:N, 2)\n",
    "        ΔE = deltaE(spins, k, N)\n",
    "        if accept_flip(ΔE, T)\n",
    "            spins[k[1], k[2]] *= -1\n",
    "            E = E + ΔE\n",
    "            M = M + 2spins[k[1], k[2]]\n",
    "        end\n",
    "    end\n",
    "    return E, M\n",
    "end"
   ]
  },
  {
   "cell_type": "code",
   "execution_count": 3,
   "id": "00b3bf8b-98a5-44e2-9bf7-926771183f39",
   "metadata": {},
   "outputs": [
    {
     "data": {
      "text/plain": [
       "accept_flip"
      ]
     },
     "execution_count": 3,
     "metadata": {},
     "output_type": "execute_result"
    }
   ],
   "source": [
    "\"\"\"\n",
    "    accept_flip(spins, N, k_i, k_j, T)\n",
    "\n",
    "Determine whether to accept the next state or not according to Metropolis acceptance rates.\n",
    "Returns `true` or `false`.\n",
    "\"\"\"\n",
    "function accept_flip(ΔE, T)\n",
    "    # Metropolis Acceptance Rates\n",
    "    if ΔE <= 0\n",
    "        return true\n",
    "    elseif rand() < exp(-ΔE/T)\n",
    "        return true\n",
    "    else\n",
    "        return false\n",
    "    end\n",
    "end"
   ]
  },
  {
   "cell_type": "code",
   "execution_count": 4,
   "id": "a724d49c-4a49-44bd-82e4-4378cd340c4b",
   "metadata": {},
   "outputs": [
    {
     "data": {
      "text/plain": [
       "deltaE"
      ]
     },
     "execution_count": 4,
     "metadata": {},
     "output_type": "execute_result"
    }
   ],
   "source": [
    "\"\"\"\n",
    "    delta_E(spins, k)\n",
    "\n",
    "Calculate the energy difference between two states for one spin flip at site k.\n",
    "\"\"\"\n",
    "function deltaE(spins, k, N)\n",
    "    ΔE = 0\n",
    "    for δ ∈ ([1, 0], [N-1, 0], [0, 1], [0, N-1])\n",
    "        nn = k + δ\n",
    "        @. nn = mod1(nn, N)  # Apply periodic boundary conditions\n",
    "        ΔE += spins[nn[1], nn[2]]\n",
    "    end\n",
    "    ΔE *= 2spins[k[1], k[2]]\n",
    "end"
   ]
  },
  {
   "cell_type": "code",
   "execution_count": 5,
   "id": "e731621e-9bbb-42c4-aff3-f39b90dbb52d",
   "metadata": {},
   "outputs": [
    {
     "data": {
      "text/plain": [
       "total_magnetization"
      ]
     },
     "execution_count": 5,
     "metadata": {},
     "output_type": "execute_result"
    }
   ],
   "source": [
    "\"\"\"\n",
    "    total_magnetization(spins)\n",
    "\n",
    "Calculate the total magnetization of square spin lattice.\n",
    "\"\"\"\n",
    "function total_magnetization(spins)\n",
    "    return sum(sum(spins))\n",
    "end"
   ]
  },
  {
   "cell_type": "code",
   "execution_count": 6,
   "id": "9b87a6f1-97fe-4f39-b296-4a510ddc5cbf",
   "metadata": {},
   "outputs": [
    {
     "data": {
      "text/plain": [
       "total_energy"
      ]
     },
     "execution_count": 6,
     "metadata": {},
     "output_type": "execute_result"
    }
   ],
   "source": [
    "\"\"\"\n",
    "    total_energy(spins)\n",
    "\n",
    "Calculate the total energy of the square spin lattice (with zero field and J=1).\n",
    "\"\"\"\n",
    "function total_energy(spins)\n",
    "    N = size(spins)[1]\n",
    "    running_sum = 0\n",
    "    for i=1:N\n",
    "        for j=1:N\n",
    "            s_k = spins[i, j]\n",
    "            for δ ∈ ([1, 0], [N-1, 0], [0, 1], [0, N-1])\n",
    "                nn = [i, j] + δ\n",
    "                @. nn = mod1(nn, N)  # Apply periodic boundary conditions\n",
    "                running_sum += s_k*spins[nn[1], nn[2]]\n",
    "            end\n",
    "        end\n",
    "    end\n",
    "    return -running_sum / 2  # divide by 2 because each bond counted twice\n",
    "end"
   ]
  },
  {
   "cell_type": "code",
   "execution_count": 7,
   "id": "997c0fa7-b2b6-4f63-a2f3-46cdc8fb4d08",
   "metadata": {},
   "outputs": [
    {
     "data": {
      "text/plain": [
       "autocorrelation_fn"
      ]
     },
     "execution_count": 7,
     "metadata": {},
     "output_type": "execute_result"
    }
   ],
   "source": [
    "\"\"\"\n",
    "    autocorrelation_fn(mags, N)\n",
    "\n",
    "Calculate the autocorrelation function (normalized) of the given time series array.\n",
    "\"\"\"\n",
    "function autocorrelation_fn(series, N)\n",
    "    tmax = length(series)\n",
    "    autocorr = zeros(Float64, tmax)\n",
    "    for t ∈ 1:tmax-1\n",
    "        sum1 = 0\n",
    "        sum2 = 0\n",
    "        sum3 = 0\n",
    "        for tk ∈ 1:tmax-t\n",
    "            sum1 += series[tk]*series[tk+t]\n",
    "            sum2 += series[tk]\n",
    "            sum3 += series[tk+t]\n",
    "        end\n",
    "        autocorr[t] = sum1 / (tmax-t) - (sum2*sum3) / (tmax - t)^2\n",
    "    end\n",
    "    @. autocorr /= N^2\n",
    "    @. autocorr /= autocorr[1]\n",
    "    return autocorr\n",
    "end"
   ]
  },
  {
   "cell_type": "code",
   "execution_count": 8,
   "id": "b08267ce-e344-40df-8132-d86ff7a2a7ee",
   "metadata": {},
   "outputs": [
    {
     "data": {
      "text/plain": [
       "bootstrap_err"
      ]
     },
     "execution_count": 8,
     "metadata": {},
     "output_type": "execute_result"
    }
   ],
   "source": [
    "\"\"\"\n",
    "    bootstrap_err(samples, calc_qty; r=100)\n",
    "\n",
    "Estimate the error in the given samples by bootstrap method. `calc_qty` is the function to calculate the quantity in which error has to be calculated. `r` is a keyword arguments giving number of resamples.\n",
    "\"\"\"\n",
    "function bootstrap_err(samples, calc_qty, args...; r=100)\n",
    "    nob = length(samples)\n",
    "    resample_arr = zeros(Float64, nob)\n",
    "    for i=1:r\n",
    "        resample = rand(samples, nob)\n",
    "        resample_arr[i] = calc_qty(resample, args...)\n",
    "    end\n",
    "    err = std(resample_arr, corrected=false)\n",
    "    return err\n",
    "end"
   ]
  },
  {
   "cell_type": "code",
   "execution_count": 9,
   "id": "162b62fc-bcce-4181-8e58-2fa0adda4641",
   "metadata": {},
   "outputs": [
    {
     "data": {
      "text/plain": [
       "specific_heat"
      ]
     },
     "execution_count": 9,
     "metadata": {},
     "output_type": "execute_result"
    }
   ],
   "source": [
    "\"\"\"\n",
    "    specific_heat(u_vals, T, N)\n",
    "\n",
    "Calculate the specific heat from given array of internal energy per site (`N²` sites) at temperature `T`.\n",
    "\"\"\"\n",
    "function specific_heat(u_vals, T, N)\n",
    "    return (T^-2) * N^2 * var(u_vals, corrected=false)\n",
    "end"
   ]
  },
  {
   "cell_type": "code",
   "execution_count": 10,
   "id": "12525777-87d9-408e-82c8-a2d4c40383c0",
   "metadata": {
    "tags": []
   },
   "outputs": [
    {
     "data": {
      "text/plain": [
       "succeptibility"
      ]
     },
     "execution_count": 10,
     "metadata": {},
     "output_type": "execute_result"
    }
   ],
   "source": [
    "\"\"\"\n",
    "    succeptibility(m_vals, T, N)\n",
    "\n",
    "Calculate the succeptibility from given array of mean magnetization per site (`N²` sites) at temperature `T`.\n",
    "\"\"\"\n",
    "function succeptibility(m_vals, T, N)\n",
    "    return (T^-2) * N^2 * var(m_vals, corrected=false)\n",
    "end"
   ]
  },
  {
   "cell_type": "code",
   "execution_count": 23,
   "id": "4e1fb4e3-5cbf-4d35-8785-965dc6df39fe",
   "metadata": {},
   "outputs": [],
   "source": [
    "N = 20  # Lattice size\n",
    "# spins = ones(N, N)  # T = 0\n",
    "spins = rand([-1, 1], (N, N))  # T = ∞\n",
    "# T = 2.2\n",
    "eqsteps = 2000  # Number of steps for equilibration\n",
    "nsteps = 6000  # Number of steps for measurements\n",
    "# heatmap(spins, color=:winter)\n",
    "\n",
    "Temps = collect(1.4:0.2:3.4)\n",
    "autocorr_time = zeros(Float64, length(Temps))\n",
    "for stepT in 1:length(Temps)\n",
    "    T = Temps[stepT]\n",
    "    # Equilibration\n",
    "    E0, M0 = total_energy(spins), total_magnetization(spins)\n",
    "    for i in 1:eqsteps\n",
    "        E0, M0 = ising_metropolis_sweep!(spins, T, E0, M0)\n",
    "    end\n",
    "    \n",
    "    mags = zeros(Float64, nsteps)\n",
    "    mags[1] = M0\n",
    "\n",
    "    for i in 1:nsteps-1\n",
    "        E0, mags[i+1] = ising_metropolis_sweep!(spins, T, E0, mags[i])\n",
    "    end\n",
    "    \n",
    "    @. mags /= N^2\n",
    "    autocorr = autocorrelation_fn(mags, N)\n",
    "    autocorr_time[stepT] = sum(autocorr[1:200]) \n",
    "end"
   ]
  },
  {
   "cell_type": "markdown",
   "id": "50674b22-a46c-4c51-bf3d-41cb36faff19",
   "metadata": {},
   "source": [
    "# Making Uncorrelated Measurements"
   ]
  },
  {
   "cell_type": "code",
   "execution_count": 38,
   "id": "48c9c02e-e13b-410a-8eab-00ccb39be45f",
   "metadata": {},
   "outputs": [
    {
     "data": {
      "text/plain": [
       "11-element Vector{Int64}:\n",
       "   800\n",
       "   400\n",
       "  1200\n",
       "  2200\n",
       "  9600\n",
       " 23800\n",
       "  7600\n",
       "  4200\n",
       "  1400\n",
       "  3200\n",
       "  1600"
      ]
     },
     "execution_count": 38,
     "metadata": {},
     "output_type": "execute_result"
    }
   ],
   "source": [
    "N = 10  # Lattice size\n",
    "Nr = 100  # Number of uncorrelated measurements\n",
    "spins = ones(N, N)  # T = 0\n",
    "uncorrelated_spins = zeros(N, N, Nr);\n",
    "\n",
    "eqsteps = 2000\n",
    "uncorr_measurement_times = 2 .* ceil.(autocorr_time)\n",
    "nsteps_uncorr = convert.(Int64, Nr.*uncorr_measurement_times)"
   ]
  },
  {
   "cell_type": "code",
   "execution_count": 78,
   "id": "c9f67255-702c-45b6-b0c5-2f22b36bb962",
   "metadata": {},
   "outputs": [],
   "source": [
    "using ScikitLearn"
   ]
  },
  {
   "cell_type": "code",
   "execution_count": 79,
   "id": "884c5018-33cf-429a-8a11-d1b0e92e786a",
   "metadata": {},
   "outputs": [
    {
     "name": "stderr",
     "output_type": "stream",
     "text": [
      "WARNING: redefinition of constant NearestNeighbors. This may fail, cause incorrect answers, or produce other errors.\n"
     ]
    },
    {
     "data": {
      "text/plain": [
       "PyObject <class 'sklearn.neighbors._unsupervised.NearestNeighbors'>"
      ]
     },
     "execution_count": 79,
     "metadata": {},
     "output_type": "execute_result"
    }
   ],
   "source": [
    "@sk_import neighbors: NearestNeighbors"
   ]
  },
  {
   "cell_type": "code",
   "execution_count": 80,
   "id": "bb1af695-faf4-480c-8e56-27075f05e9be",
   "metadata": {},
   "outputs": [],
   "source": [
    "r1 = zeros(Float64, length(Temps))\n",
    "r2 = zeros(Float64, length(Temps))\n",
    "for stepT in 1:length(Temps)\n",
    "    T = Temps[stepT]\n",
    "    # equilibration\n",
    "    E0, M0 = total_energy(spins), total_magnetization(spins)\n",
    "    for i in 1:eqsteps\n",
    "        E0, M0 = ising_metropolis_sweep!(spins, T, E0, M0)\n",
    "    end\n",
    "\n",
    "    # uncorrelated measurements\n",
    "    for j in 1:nsteps_uncorr[stepT]\n",
    "        E0, M0 = ising_metropolis_sweep!(spins, T, E0, M0)\n",
    "        if j%(nsteps_uncorr[stepT]÷100)== 0\n",
    "            uncorrelated_spins[:, :, j÷(nsteps_uncorr[stepT]÷Nr)] = spins\n",
    "        end\n",
    "    end\n",
    "    \n",
    "    nbrs = fit!(\n",
    "        NearestNeighbors(n_neighbors=3, algorithm=\"ball_tree\"),\n",
    "        [reshape(uncorrelated_spins[:,:, i], N*N) for i=1:Nr]\n",
    "    )\n",
    "    dists, idxs = NearestNeighbors.kneighbors(nbrs, [reshape(uncorrelated_spins[:,:, i], N*N) for i=1:Nr])\n",
    "    r1[stepT] = mean(dists[:, 2])\n",
    "    r2[stepT] = mean(dists[:, 3])\n",
    "end"
   ]
  },
  {
   "cell_type": "code",
   "execution_count": 83,
   "id": "c3347d8b-0594-4ce7-bd12-9ab34d0b5737",
   "metadata": {},
   "outputs": [
    {
     "data": {
      "image/svg+xml": [
       "<?xml version=\"1.0\" encoding=\"utf-8\"?>\n",
       "<svg xmlns=\"http://www.w3.org/2000/svg\" xmlns:xlink=\"http://www.w3.org/1999/xlink\" width=\"600\" height=\"400\" viewBox=\"0 0 2400 1600\">\n",
       "<defs>\n",
       "  <clipPath id=\"clip350\">\n",
       "    <rect x=\"0\" y=\"0\" width=\"2400\" height=\"1600\"/>\n",
       "  </clipPath>\n",
       "</defs>\n",
       "<path clip-path=\"url(#clip350)\" d=\"\n",
       "M0 1600 L2400 1600 L2400 0 L0 0  Z\n",
       "  \" fill=\"#ffffff\" fill-rule=\"evenodd\" fill-opacity=\"1\"/>\n",
       "<defs>\n",
       "  <clipPath id=\"clip351\">\n",
       "    <rect x=\"480\" y=\"0\" width=\"1681\" height=\"1600\"/>\n",
       "  </clipPath>\n",
       "</defs>\n",
       "<path clip-path=\"url(#clip350)\" d=\"\n",
       "M184.191 1486.45 L2352.76 1486.45 L2352.76 47.2441 L184.191 47.2441  Z\n",
       "  \" fill=\"#ffffff\" fill-rule=\"evenodd\" fill-opacity=\"1\"/>\n",
       "<defs>\n",
       "  <clipPath id=\"clip352\">\n",
       "    <rect x=\"184\" y=\"47\" width=\"2170\" height=\"1440\"/>\n",
       "  </clipPath>\n",
       "</defs>\n",
       "<polyline clip-path=\"url(#clip352)\" style=\"stroke:#000000; stroke-linecap:butt; stroke-linejoin:round; stroke-width:2; stroke-opacity:0.1; fill:none\" points=\"\n",
       "  347.856,1486.45 347.856,47.2441 \n",
       "  \"/>\n",
       "<polyline clip-path=\"url(#clip352)\" style=\"stroke:#000000; stroke-linecap:butt; stroke-linejoin:round; stroke-width:2; stroke-opacity:0.1; fill:none\" points=\"\n",
       "  859.31,1486.45 859.31,47.2441 \n",
       "  \"/>\n",
       "<polyline clip-path=\"url(#clip352)\" style=\"stroke:#000000; stroke-linecap:butt; stroke-linejoin:round; stroke-width:2; stroke-opacity:0.1; fill:none\" points=\"\n",
       "  1370.76,1486.45 1370.76,47.2441 \n",
       "  \"/>\n",
       "<polyline clip-path=\"url(#clip352)\" style=\"stroke:#000000; stroke-linecap:butt; stroke-linejoin:round; stroke-width:2; stroke-opacity:0.1; fill:none\" points=\"\n",
       "  1882.22,1486.45 1882.22,47.2441 \n",
       "  \"/>\n",
       "<polyline clip-path=\"url(#clip350)\" style=\"stroke:#000000; stroke-linecap:butt; stroke-linejoin:round; stroke-width:4; stroke-opacity:1; fill:none\" points=\"\n",
       "  184.191,1486.45 2352.76,1486.45 \n",
       "  \"/>\n",
       "<polyline clip-path=\"url(#clip350)\" style=\"stroke:#000000; stroke-linecap:butt; stroke-linejoin:round; stroke-width:4; stroke-opacity:1; fill:none\" points=\"\n",
       "  347.856,1486.45 347.856,1467.55 \n",
       "  \"/>\n",
       "<polyline clip-path=\"url(#clip350)\" style=\"stroke:#000000; stroke-linecap:butt; stroke-linejoin:round; stroke-width:4; stroke-opacity:1; fill:none\" points=\"\n",
       "  859.31,1486.45 859.31,1467.55 \n",
       "  \"/>\n",
       "<polyline clip-path=\"url(#clip350)\" style=\"stroke:#000000; stroke-linecap:butt; stroke-linejoin:round; stroke-width:4; stroke-opacity:1; fill:none\" points=\"\n",
       "  1370.76,1486.45 1370.76,1467.55 \n",
       "  \"/>\n",
       "<polyline clip-path=\"url(#clip350)\" style=\"stroke:#000000; stroke-linecap:butt; stroke-linejoin:round; stroke-width:4; stroke-opacity:1; fill:none\" points=\"\n",
       "  1882.22,1486.45 1882.22,1467.55 \n",
       "  \"/>\n",
       "<path clip-path=\"url(#clip350)\" d=\"M315.507 1544.91 L323.145 1544.91 L323.145 1518.55 L314.835 1520.21 L314.835 1515.95 L323.099 1514.29 L327.775 1514.29 L327.775 1544.91 L335.414 1544.91 L335.414 1548.85 L315.507 1548.85 L315.507 1544.91 Z\" fill=\"#000000\" fill-rule=\"evenodd\" fill-opacity=\"1\" /><path clip-path=\"url(#clip350)\" d=\"M344.858 1542.97 L349.743 1542.97 L349.743 1548.85 L344.858 1548.85 L344.858 1542.97 Z\" fill=\"#000000\" fill-rule=\"evenodd\" fill-opacity=\"1\" /><path clip-path=\"url(#clip350)\" d=\"M359.974 1514.29 L378.33 1514.29 L378.33 1518.22 L364.256 1518.22 L364.256 1526.7 Q365.275 1526.35 366.293 1526.19 Q367.312 1526 368.33 1526 Q374.117 1526 377.497 1529.17 Q380.877 1532.34 380.877 1537.76 Q380.877 1543.34 377.404 1546.44 Q373.932 1549.52 367.613 1549.52 Q365.437 1549.52 363.168 1549.15 Q360.923 1548.78 358.516 1548.04 L358.516 1543.34 Q360.599 1544.47 362.821 1545.03 Q365.043 1545.58 367.52 1545.58 Q371.525 1545.58 373.863 1543.48 Q376.201 1541.37 376.201 1537.76 Q376.201 1534.15 373.863 1532.04 Q371.525 1529.94 367.52 1529.94 Q365.645 1529.94 363.77 1530.35 Q361.918 1530.77 359.974 1531.65 L359.974 1514.29 Z\" fill=\"#000000\" fill-rule=\"evenodd\" fill-opacity=\"1\" /><path clip-path=\"url(#clip350)\" d=\"M830.549 1544.91 L846.868 1544.91 L846.868 1548.85 L824.924 1548.85 L824.924 1544.91 Q827.586 1542.16 832.169 1537.53 Q836.775 1532.88 837.956 1531.53 Q840.201 1529.01 841.081 1527.27 Q841.984 1525.51 841.984 1523.82 Q841.984 1521.07 840.039 1519.33 Q838.118 1517.6 835.016 1517.6 Q832.817 1517.6 830.363 1518.36 Q827.933 1519.13 825.155 1520.68 L825.155 1515.95 Q827.979 1514.82 830.433 1514.24 Q832.887 1513.66 834.924 1513.66 Q840.294 1513.66 843.488 1516.35 Q846.683 1519.03 846.683 1523.52 Q846.683 1525.65 845.873 1527.57 Q845.086 1529.47 842.979 1532.07 Q842.4 1532.74 839.299 1535.95 Q836.197 1539.15 830.549 1544.91 Z\" fill=\"#000000\" fill-rule=\"evenodd\" fill-opacity=\"1\" /><path clip-path=\"url(#clip350)\" d=\"M856.683 1542.97 L861.567 1542.97 L861.567 1548.85 L856.683 1548.85 L856.683 1542.97 Z\" fill=\"#000000\" fill-rule=\"evenodd\" fill-opacity=\"1\" /><path clip-path=\"url(#clip350)\" d=\"M881.752 1517.37 Q878.141 1517.37 876.312 1520.93 Q874.507 1524.47 874.507 1531.6 Q874.507 1538.71 876.312 1542.27 Q878.141 1545.82 881.752 1545.82 Q885.386 1545.82 887.192 1542.27 Q889.021 1538.71 889.021 1531.6 Q889.021 1524.47 887.192 1520.93 Q885.386 1517.37 881.752 1517.37 M881.752 1513.66 Q887.562 1513.66 890.618 1518.27 Q893.696 1522.85 893.696 1531.6 Q893.696 1540.33 890.618 1544.94 Q887.562 1549.52 881.752 1549.52 Q875.942 1549.52 872.863 1544.94 Q869.808 1540.33 869.808 1531.6 Q869.808 1522.85 872.863 1518.27 Q875.942 1513.66 881.752 1513.66 Z\" fill=\"#000000\" fill-rule=\"evenodd\" fill-opacity=\"1\" /><path clip-path=\"url(#clip350)\" d=\"M1342.5 1544.91 L1358.82 1544.91 L1358.82 1548.85 L1336.88 1548.85 L1336.88 1544.91 Q1339.54 1542.16 1344.12 1537.53 Q1348.73 1532.88 1349.91 1531.53 Q1352.15 1529.01 1353.03 1527.27 Q1353.94 1525.51 1353.94 1523.82 Q1353.94 1521.07 1351.99 1519.33 Q1350.07 1517.6 1346.97 1517.6 Q1344.77 1517.6 1342.32 1518.36 Q1339.88 1519.13 1337.11 1520.68 L1337.11 1515.95 Q1339.93 1514.82 1342.38 1514.24 Q1344.84 1513.66 1346.88 1513.66 Q1352.25 1513.66 1355.44 1516.35 Q1358.63 1519.03 1358.63 1523.52 Q1358.63 1525.65 1357.82 1527.57 Q1357.04 1529.47 1354.93 1532.07 Q1354.35 1532.74 1351.25 1535.95 Q1348.15 1539.15 1342.5 1544.91 Z\" fill=\"#000000\" fill-rule=\"evenodd\" fill-opacity=\"1\" /><path clip-path=\"url(#clip350)\" d=\"M1368.63 1542.97 L1373.52 1542.97 L1373.52 1548.85 L1368.63 1548.85 L1368.63 1542.97 Z\" fill=\"#000000\" fill-rule=\"evenodd\" fill-opacity=\"1\" /><path clip-path=\"url(#clip350)\" d=\"M1383.75 1514.29 L1402.11 1514.29 L1402.11 1518.22 L1388.03 1518.22 L1388.03 1526.7 Q1389.05 1526.35 1390.07 1526.19 Q1391.09 1526 1392.11 1526 Q1397.89 1526 1401.27 1529.17 Q1404.65 1532.34 1404.65 1537.76 Q1404.65 1543.34 1401.18 1546.44 Q1397.71 1549.52 1391.39 1549.52 Q1389.21 1549.52 1386.94 1549.15 Q1384.7 1548.78 1382.29 1548.04 L1382.29 1543.34 Q1384.38 1544.47 1386.6 1545.03 Q1388.82 1545.58 1391.3 1545.58 Q1395.3 1545.58 1397.64 1543.48 Q1399.98 1541.37 1399.98 1537.76 Q1399.98 1534.15 1397.64 1532.04 Q1395.3 1529.94 1391.3 1529.94 Q1389.42 1529.94 1387.55 1530.35 Q1385.69 1530.77 1383.75 1531.65 L1383.75 1514.29 Z\" fill=\"#000000\" fill-rule=\"evenodd\" fill-opacity=\"1\" /><path clip-path=\"url(#clip350)\" d=\"M1863.53 1530.21 Q1866.88 1530.93 1868.76 1533.2 Q1870.66 1535.47 1870.66 1538.8 Q1870.66 1543.92 1867.14 1546.72 Q1863.62 1549.52 1857.14 1549.52 Q1854.96 1549.52 1852.65 1549.08 Q1850.35 1548.66 1847.9 1547.81 L1847.9 1543.29 Q1849.85 1544.43 1852.16 1545.01 Q1854.48 1545.58 1857 1545.58 Q1861.4 1545.58 1863.69 1543.85 Q1866 1542.11 1866 1538.8 Q1866 1535.75 1863.85 1534.03 Q1861.72 1532.3 1857.9 1532.3 L1853.87 1532.3 L1853.87 1528.45 L1858.09 1528.45 Q1861.54 1528.45 1863.36 1527.09 Q1865.19 1525.7 1865.19 1523.11 Q1865.19 1520.45 1863.29 1519.03 Q1861.42 1517.6 1857.9 1517.6 Q1855.98 1517.6 1853.78 1518.01 Q1851.58 1518.43 1848.94 1519.31 L1848.94 1515.14 Q1851.6 1514.4 1853.92 1514.03 Q1856.26 1513.66 1858.32 1513.66 Q1863.64 1513.66 1866.74 1516.09 Q1869.85 1518.5 1869.85 1522.62 Q1869.85 1525.49 1868.2 1527.48 Q1866.56 1529.45 1863.53 1530.21 Z\" fill=\"#000000\" fill-rule=\"evenodd\" fill-opacity=\"1\" /><path clip-path=\"url(#clip350)\" d=\"M1879.52 1542.97 L1884.41 1542.97 L1884.41 1548.85 L1879.52 1548.85 L1879.52 1542.97 Z\" fill=\"#000000\" fill-rule=\"evenodd\" fill-opacity=\"1\" /><path clip-path=\"url(#clip350)\" d=\"M1904.59 1517.37 Q1900.98 1517.37 1899.15 1520.93 Q1897.35 1524.47 1897.35 1531.6 Q1897.35 1538.71 1899.15 1542.27 Q1900.98 1545.82 1904.59 1545.82 Q1908.22 1545.82 1910.03 1542.27 Q1911.86 1538.71 1911.86 1531.6 Q1911.86 1524.47 1910.03 1520.93 Q1908.22 1517.37 1904.59 1517.37 M1904.59 1513.66 Q1910.4 1513.66 1913.46 1518.27 Q1916.54 1522.85 1916.54 1531.6 Q1916.54 1540.33 1913.46 1544.94 Q1910.4 1549.52 1904.59 1549.52 Q1898.78 1549.52 1895.7 1544.94 Q1892.65 1540.33 1892.65 1531.6 Q1892.65 1522.85 1895.7 1518.27 Q1898.78 1513.66 1904.59 1513.66 Z\" fill=\"#000000\" fill-rule=\"evenodd\" fill-opacity=\"1\" /><polyline clip-path=\"url(#clip352)\" style=\"stroke:#000000; stroke-linecap:butt; stroke-linejoin:round; stroke-width:2; stroke-opacity:0.1; fill:none\" points=\"\n",
       "  184.191,1224.2 2352.76,1224.2 \n",
       "  \"/>\n",
       "<polyline clip-path=\"url(#clip352)\" style=\"stroke:#000000; stroke-linecap:butt; stroke-linejoin:round; stroke-width:2; stroke-opacity:0.1; fill:none\" points=\"\n",
       "  184.191,922.919 2352.76,922.919 \n",
       "  \"/>\n",
       "<polyline clip-path=\"url(#clip352)\" style=\"stroke:#000000; stroke-linecap:butt; stroke-linejoin:round; stroke-width:2; stroke-opacity:0.1; fill:none\" points=\"\n",
       "  184.191,621.636 2352.76,621.636 \n",
       "  \"/>\n",
       "<polyline clip-path=\"url(#clip352)\" style=\"stroke:#000000; stroke-linecap:butt; stroke-linejoin:round; stroke-width:2; stroke-opacity:0.1; fill:none\" points=\"\n",
       "  184.191,320.352 2352.76,320.352 \n",
       "  \"/>\n",
       "<polyline clip-path=\"url(#clip350)\" style=\"stroke:#000000; stroke-linecap:butt; stroke-linejoin:round; stroke-width:4; stroke-opacity:1; fill:none\" points=\"\n",
       "  184.191,1486.45 184.191,47.2441 \n",
       "  \"/>\n",
       "<polyline clip-path=\"url(#clip350)\" style=\"stroke:#000000; stroke-linecap:butt; stroke-linejoin:round; stroke-width:4; stroke-opacity:1; fill:none\" points=\"\n",
       "  184.191,1224.2 203.088,1224.2 \n",
       "  \"/>\n",
       "<polyline clip-path=\"url(#clip350)\" style=\"stroke:#000000; stroke-linecap:butt; stroke-linejoin:round; stroke-width:4; stroke-opacity:1; fill:none\" points=\"\n",
       "  184.191,922.919 203.088,922.919 \n",
       "  \"/>\n",
       "<polyline clip-path=\"url(#clip350)\" style=\"stroke:#000000; stroke-linecap:butt; stroke-linejoin:round; stroke-width:4; stroke-opacity:1; fill:none\" points=\"\n",
       "  184.191,621.636 203.088,621.636 \n",
       "  \"/>\n",
       "<polyline clip-path=\"url(#clip350)\" style=\"stroke:#000000; stroke-linecap:butt; stroke-linejoin:round; stroke-width:4; stroke-opacity:1; fill:none\" points=\"\n",
       "  184.191,320.352 203.088,320.352 \n",
       "  \"/>\n",
       "<path clip-path=\"url(#clip350)\" d=\"M86.0382 1237.55 L102.358 1237.55 L102.358 1241.48 L80.4133 1241.48 L80.4133 1237.55 Q83.0753 1234.79 87.6586 1230.16 Q92.2651 1225.51 93.4456 1224.17 Q95.691 1221.64 96.5706 1219.91 Q97.4734 1218.15 97.4734 1216.46 Q97.4734 1213.7 95.5289 1211.97 Q93.6076 1210.23 90.5058 1210.23 Q88.3067 1210.23 85.8531 1211 Q83.4225 1211.76 80.6447 1213.31 L80.6447 1208.59 Q83.4688 1207.45 85.9225 1206.88 Q88.3762 1206.3 90.4132 1206.3 Q95.7836 1206.3 98.978 1208.98 Q102.172 1211.67 102.172 1216.16 Q102.172 1218.29 101.362 1220.21 Q100.575 1222.11 98.4687 1224.7 Q97.89 1225.37 94.7882 1228.59 Q91.6864 1231.78 86.0382 1237.55 Z\" fill=\"#000000\" fill-rule=\"evenodd\" fill-opacity=\"1\" /><path clip-path=\"url(#clip350)\" d=\"M112.172 1235.6 L117.057 1235.6 L117.057 1241.48 L112.172 1241.48 L112.172 1235.6 Z\" fill=\"#000000\" fill-rule=\"evenodd\" fill-opacity=\"1\" /><path clip-path=\"url(#clip350)\" d=\"M127.288 1206.92 L145.644 1206.92 L145.644 1210.86 L131.57 1210.86 L131.57 1219.33 Q132.589 1218.98 133.607 1218.82 Q134.626 1218.63 135.644 1218.63 Q141.431 1218.63 144.811 1221.81 Q148.191 1224.98 148.191 1230.39 Q148.191 1235.97 144.718 1239.07 Q141.246 1242.15 134.927 1242.15 Q132.751 1242.15 130.482 1241.78 Q128.237 1241.41 125.83 1240.67 L125.83 1235.97 Q127.913 1237.11 130.135 1237.66 Q132.357 1238.22 134.834 1238.22 Q138.839 1238.22 141.177 1236.11 Q143.515 1234.01 143.515 1230.39 Q143.515 1226.78 141.177 1224.68 Q138.839 1222.57 134.834 1222.57 Q132.959 1222.57 131.084 1222.99 Q129.232 1223.4 127.288 1224.28 L127.288 1206.92 Z\" fill=\"#000000\" fill-rule=\"evenodd\" fill-opacity=\"1\" /><path clip-path=\"url(#clip350)\" d=\"M81.0614 905.639 L99.4178 905.639 L99.4178 909.574 L85.3438 909.574 L85.3438 918.046 Q86.3623 917.699 87.3808 917.537 Q88.3993 917.352 89.4178 917.352 Q95.2049 917.352 98.5845 920.523 Q101.964 923.694 101.964 929.111 Q101.964 934.689 98.4919 937.791 Q95.0197 940.87 88.7003 940.87 Q86.5243 940.87 84.2558 940.5 Q82.0105 940.129 79.6031 939.388 L79.6031 934.689 Q81.6864 935.824 83.9086 936.379 Q86.1308 936.935 88.6077 936.935 Q92.6123 936.935 94.9502 934.828 Q97.2882 932.722 97.2882 929.111 Q97.2882 925.5 94.9502 923.393 Q92.6123 921.287 88.6077 921.287 Q86.7327 921.287 84.8577 921.703 Q83.0058 922.12 81.0614 923 L81.0614 905.639 Z\" fill=\"#000000\" fill-rule=\"evenodd\" fill-opacity=\"1\" /><path clip-path=\"url(#clip350)\" d=\"M111.177 934.319 L116.061 934.319 L116.061 940.199 L111.177 940.199 L111.177 934.319 Z\" fill=\"#000000\" fill-rule=\"evenodd\" fill-opacity=\"1\" /><path clip-path=\"url(#clip350)\" d=\"M136.246 908.717 Q132.635 908.717 130.807 912.282 Q129.001 915.824 129.001 922.953 Q129.001 930.06 130.807 933.625 Q132.635 937.166 136.246 937.166 Q139.881 937.166 141.686 933.625 Q143.515 930.06 143.515 922.953 Q143.515 915.824 141.686 912.282 Q139.881 908.717 136.246 908.717 M136.246 905.014 Q142.056 905.014 145.112 909.62 Q148.191 914.203 148.191 922.953 Q148.191 931.68 145.112 936.287 Q142.056 940.87 136.246 940.87 Q130.436 940.87 127.357 936.287 Q124.302 931.68 124.302 922.953 Q124.302 914.203 127.357 909.62 Q130.436 905.014 136.246 905.014 Z\" fill=\"#000000\" fill-rule=\"evenodd\" fill-opacity=\"1\" /><path clip-path=\"url(#clip350)\" d=\"M80.8299 604.356 L103.052 604.356 L103.052 606.346 L90.5058 638.916 L85.6216 638.916 L97.4271 608.291 L80.8299 608.291 L80.8299 604.356 Z\" fill=\"#000000\" fill-rule=\"evenodd\" fill-opacity=\"1\" /><path clip-path=\"url(#clip350)\" d=\"M112.172 633.036 L117.057 633.036 L117.057 638.916 L112.172 638.916 L112.172 633.036 Z\" fill=\"#000000\" fill-rule=\"evenodd\" fill-opacity=\"1\" /><path clip-path=\"url(#clip350)\" d=\"M127.288 604.356 L145.644 604.356 L145.644 608.291 L131.57 608.291 L131.57 616.763 Q132.589 616.416 133.607 616.254 Q134.626 616.068 135.644 616.068 Q141.431 616.068 144.811 619.24 Q148.191 622.411 148.191 627.828 Q148.191 633.406 144.718 636.508 Q141.246 639.587 134.927 639.587 Q132.751 639.587 130.482 639.216 Q128.237 638.846 125.83 638.105 L125.83 633.406 Q127.913 634.541 130.135 635.096 Q132.357 635.652 134.834 635.652 Q138.839 635.652 141.177 633.545 Q143.515 631.439 143.515 627.828 Q143.515 624.217 141.177 622.11 Q138.839 620.004 134.834 620.004 Q132.959 620.004 131.084 620.42 Q129.232 620.837 127.288 621.717 L127.288 604.356 Z\" fill=\"#000000\" fill-rule=\"evenodd\" fill-opacity=\"1\" /><path clip-path=\"url(#clip350)\" d=\"M51.6634 333.697 L59.3023 333.697 L59.3023 307.332 L50.9921 308.998 L50.9921 304.739 L59.256 303.072 L63.9319 303.072 L63.9319 333.697 L71.5707 333.697 L71.5707 337.632 L51.6634 337.632 L51.6634 333.697 Z\" fill=\"#000000\" fill-rule=\"evenodd\" fill-opacity=\"1\" /><path clip-path=\"url(#clip350)\" d=\"M91.0151 306.151 Q87.404 306.151 85.5753 309.716 Q83.7697 313.257 83.7697 320.387 Q83.7697 327.494 85.5753 331.058 Q87.404 334.6 91.0151 334.6 Q94.6493 334.6 96.4548 331.058 Q98.2835 327.494 98.2835 320.387 Q98.2835 313.257 96.4548 309.716 Q94.6493 306.151 91.0151 306.151 M91.0151 302.447 Q96.8252 302.447 99.8808 307.054 Q102.959 311.637 102.959 320.387 Q102.959 329.114 99.8808 333.72 Q96.8252 338.304 91.0151 338.304 Q85.2049 338.304 82.1262 333.72 Q79.0707 329.114 79.0707 320.387 Q79.0707 311.637 82.1262 307.054 Q85.2049 302.447 91.0151 302.447 Z\" fill=\"#000000\" fill-rule=\"evenodd\" fill-opacity=\"1\" /><path clip-path=\"url(#clip350)\" d=\"M111.177 331.753 L116.061 331.753 L116.061 337.632 L111.177 337.632 L111.177 331.753 Z\" fill=\"#000000\" fill-rule=\"evenodd\" fill-opacity=\"1\" /><path clip-path=\"url(#clip350)\" d=\"M136.246 306.151 Q132.635 306.151 130.807 309.716 Q129.001 313.257 129.001 320.387 Q129.001 327.494 130.807 331.058 Q132.635 334.6 136.246 334.6 Q139.881 334.6 141.686 331.058 Q143.515 327.494 143.515 320.387 Q143.515 313.257 141.686 309.716 Q139.881 306.151 136.246 306.151 M136.246 302.447 Q142.056 302.447 145.112 307.054 Q148.191 311.637 148.191 320.387 Q148.191 329.114 145.112 333.72 Q142.056 338.304 136.246 338.304 Q130.436 338.304 127.357 333.72 Q124.302 329.114 124.302 320.387 Q124.302 311.637 127.357 307.054 Q130.436 302.447 136.246 302.447 Z\" fill=\"#000000\" fill-rule=\"evenodd\" fill-opacity=\"1\" /><polyline clip-path=\"url(#clip352)\" style=\"stroke:#009af9; stroke-linecap:butt; stroke-linejoin:round; stroke-width:4; stroke-opacity:1; fill:none\" points=\"\n",
       "  245.565,1445.72 450.147,1407.68 654.728,1271.52 859.31,1031.3 1063.89,831.074 1268.47,564.624 1473.05,392.401 1677.64,265.145 1882.22,178.457 2086.8,133.594 \n",
       "  2291.38,128.369 \n",
       "  \"/>\n",
       "<circle clip-path=\"url(#clip352)\" cx=\"245.565\" cy=\"1445.72\" r=\"14\" fill=\"#009af9\" fill-rule=\"evenodd\" fill-opacity=\"1\" stroke=\"#000000\" stroke-opacity=\"1\" stroke-width=\"3.2\"/>\n",
       "<circle clip-path=\"url(#clip352)\" cx=\"450.147\" cy=\"1407.68\" r=\"14\" fill=\"#009af9\" fill-rule=\"evenodd\" fill-opacity=\"1\" stroke=\"#000000\" stroke-opacity=\"1\" stroke-width=\"3.2\"/>\n",
       "<circle clip-path=\"url(#clip352)\" cx=\"654.728\" cy=\"1271.52\" r=\"14\" fill=\"#009af9\" fill-rule=\"evenodd\" fill-opacity=\"1\" stroke=\"#000000\" stroke-opacity=\"1\" stroke-width=\"3.2\"/>\n",
       "<circle clip-path=\"url(#clip352)\" cx=\"859.31\" cy=\"1031.3\" r=\"14\" fill=\"#009af9\" fill-rule=\"evenodd\" fill-opacity=\"1\" stroke=\"#000000\" stroke-opacity=\"1\" stroke-width=\"3.2\"/>\n",
       "<circle clip-path=\"url(#clip352)\" cx=\"1063.89\" cy=\"831.074\" r=\"14\" fill=\"#009af9\" fill-rule=\"evenodd\" fill-opacity=\"1\" stroke=\"#000000\" stroke-opacity=\"1\" stroke-width=\"3.2\"/>\n",
       "<circle clip-path=\"url(#clip352)\" cx=\"1268.47\" cy=\"564.624\" r=\"14\" fill=\"#009af9\" fill-rule=\"evenodd\" fill-opacity=\"1\" stroke=\"#000000\" stroke-opacity=\"1\" stroke-width=\"3.2\"/>\n",
       "<circle clip-path=\"url(#clip352)\" cx=\"1473.05\" cy=\"392.401\" r=\"14\" fill=\"#009af9\" fill-rule=\"evenodd\" fill-opacity=\"1\" stroke=\"#000000\" stroke-opacity=\"1\" stroke-width=\"3.2\"/>\n",
       "<circle clip-path=\"url(#clip352)\" cx=\"1677.64\" cy=\"265.145\" r=\"14\" fill=\"#009af9\" fill-rule=\"evenodd\" fill-opacity=\"1\" stroke=\"#000000\" stroke-opacity=\"1\" stroke-width=\"3.2\"/>\n",
       "<circle clip-path=\"url(#clip352)\" cx=\"1882.22\" cy=\"178.457\" r=\"14\" fill=\"#009af9\" fill-rule=\"evenodd\" fill-opacity=\"1\" stroke=\"#000000\" stroke-opacity=\"1\" stroke-width=\"3.2\"/>\n",
       "<circle clip-path=\"url(#clip352)\" cx=\"2086.8\" cy=\"133.594\" r=\"14\" fill=\"#009af9\" fill-rule=\"evenodd\" fill-opacity=\"1\" stroke=\"#000000\" stroke-opacity=\"1\" stroke-width=\"3.2\"/>\n",
       "<circle clip-path=\"url(#clip352)\" cx=\"2291.38\" cy=\"128.369\" r=\"14\" fill=\"#009af9\" fill-rule=\"evenodd\" fill-opacity=\"1\" stroke=\"#000000\" stroke-opacity=\"1\" stroke-width=\"3.2\"/>\n",
       "<polyline clip-path=\"url(#clip352)\" style=\"stroke:#e26f46; stroke-linecap:butt; stroke-linejoin:round; stroke-width:4; stroke-opacity:1; fill:none\" points=\"\n",
       "  245.565,1438.9 450.147,1391.63 654.728,1238.01 859.31,990.674 1063.89,801.467 1268.47,513.3 1473.05,339.452 1677.64,214.361 1882.22,129.771 2086.8,89.3738 \n",
       "  2291.38,87.9763 \n",
       "  \"/>\n",
       "<circle clip-path=\"url(#clip352)\" cx=\"245.565\" cy=\"1438.9\" r=\"14\" fill=\"#e26f46\" fill-rule=\"evenodd\" fill-opacity=\"1\" stroke=\"#000000\" stroke-opacity=\"1\" stroke-width=\"3.2\"/>\n",
       "<circle clip-path=\"url(#clip352)\" cx=\"450.147\" cy=\"1391.63\" r=\"14\" fill=\"#e26f46\" fill-rule=\"evenodd\" fill-opacity=\"1\" stroke=\"#000000\" stroke-opacity=\"1\" stroke-width=\"3.2\"/>\n",
       "<circle clip-path=\"url(#clip352)\" cx=\"654.728\" cy=\"1238.01\" r=\"14\" fill=\"#e26f46\" fill-rule=\"evenodd\" fill-opacity=\"1\" stroke=\"#000000\" stroke-opacity=\"1\" stroke-width=\"3.2\"/>\n",
       "<circle clip-path=\"url(#clip352)\" cx=\"859.31\" cy=\"990.674\" r=\"14\" fill=\"#e26f46\" fill-rule=\"evenodd\" fill-opacity=\"1\" stroke=\"#000000\" stroke-opacity=\"1\" stroke-width=\"3.2\"/>\n",
       "<circle clip-path=\"url(#clip352)\" cx=\"1063.89\" cy=\"801.467\" r=\"14\" fill=\"#e26f46\" fill-rule=\"evenodd\" fill-opacity=\"1\" stroke=\"#000000\" stroke-opacity=\"1\" stroke-width=\"3.2\"/>\n",
       "<circle clip-path=\"url(#clip352)\" cx=\"1268.47\" cy=\"513.3\" r=\"14\" fill=\"#e26f46\" fill-rule=\"evenodd\" fill-opacity=\"1\" stroke=\"#000000\" stroke-opacity=\"1\" stroke-width=\"3.2\"/>\n",
       "<circle clip-path=\"url(#clip352)\" cx=\"1473.05\" cy=\"339.452\" r=\"14\" fill=\"#e26f46\" fill-rule=\"evenodd\" fill-opacity=\"1\" stroke=\"#000000\" stroke-opacity=\"1\" stroke-width=\"3.2\"/>\n",
       "<circle clip-path=\"url(#clip352)\" cx=\"1677.64\" cy=\"214.361\" r=\"14\" fill=\"#e26f46\" fill-rule=\"evenodd\" fill-opacity=\"1\" stroke=\"#000000\" stroke-opacity=\"1\" stroke-width=\"3.2\"/>\n",
       "<circle clip-path=\"url(#clip352)\" cx=\"1882.22\" cy=\"129.771\" r=\"14\" fill=\"#e26f46\" fill-rule=\"evenodd\" fill-opacity=\"1\" stroke=\"#000000\" stroke-opacity=\"1\" stroke-width=\"3.2\"/>\n",
       "<circle clip-path=\"url(#clip352)\" cx=\"2086.8\" cy=\"89.3738\" r=\"14\" fill=\"#e26f46\" fill-rule=\"evenodd\" fill-opacity=\"1\" stroke=\"#000000\" stroke-opacity=\"1\" stroke-width=\"3.2\"/>\n",
       "<circle clip-path=\"url(#clip352)\" cx=\"2291.38\" cy=\"87.9763\" r=\"14\" fill=\"#e26f46\" fill-rule=\"evenodd\" fill-opacity=\"1\" stroke=\"#000000\" stroke-opacity=\"1\" stroke-width=\"3.2\"/>\n",
       "<path clip-path=\"url(#clip350)\" d=\"\n",
       "M1987.09 250.738 L2280.47 250.738 L2280.47 95.2176 L1987.09 95.2176  Z\n",
       "  \" fill=\"#ffffff\" fill-rule=\"evenodd\" fill-opacity=\"1\"/>\n",
       "<polyline clip-path=\"url(#clip350)\" style=\"stroke:#000000; stroke-linecap:butt; stroke-linejoin:round; stroke-width:4; stroke-opacity:1; fill:none\" points=\"\n",
       "  1987.09,250.738 2280.47,250.738 2280.47,95.2176 1987.09,95.2176 1987.09,250.738 \n",
       "  \"/>\n",
       "<polyline clip-path=\"url(#clip350)\" style=\"stroke:#009af9; stroke-linecap:butt; stroke-linejoin:round; stroke-width:4; stroke-opacity:1; fill:none\" points=\"\n",
       "  2011.18,147.058 2155.75,147.058 \n",
       "  \"/>\n",
       "<circle clip-path=\"url(#clip350)\" cx=\"2083.47\" cy=\"147.058\" r=\"23\" fill=\"#009af9\" fill-rule=\"evenodd\" fill-opacity=\"1\" stroke=\"#000000\" stroke-opacity=\"1\" stroke-width=\"5.12\"/>\n",
       "<path clip-path=\"url(#clip350)\" d=\"M2193.69 166.745 Q2191.89 171.375 2190.17 172.787 Q2188.46 174.199 2185.59 174.199 L2182.19 174.199 L2182.19 170.634 L2184.69 170.634 Q2186.45 170.634 2187.42 169.8 Q2188.39 168.967 2189.57 165.865 L2190.34 163.921 L2179.85 138.412 L2184.36 138.412 L2192.47 158.689 L2200.57 138.412 L2205.08 138.412 L2193.69 166.745 Z\" fill=\"#000000\" fill-rule=\"evenodd\" fill-opacity=\"1\" /><path clip-path=\"url(#clip350)\" d=\"M2212.37 160.402 L2220.01 160.402 L2220.01 134.037 L2211.7 135.703 L2211.7 131.444 L2219.97 129.778 L2224.64 129.778 L2224.64 160.402 L2232.28 160.402 L2232.28 164.338 L2212.37 164.338 L2212.37 160.402 Z\" fill=\"#000000\" fill-rule=\"evenodd\" fill-opacity=\"1\" /><polyline clip-path=\"url(#clip350)\" style=\"stroke:#e26f46; stroke-linecap:butt; stroke-linejoin:round; stroke-width:4; stroke-opacity:1; fill:none\" points=\"\n",
       "  2011.18,198.898 2155.75,198.898 \n",
       "  \"/>\n",
       "<circle clip-path=\"url(#clip350)\" cx=\"2083.47\" cy=\"198.898\" r=\"23\" fill=\"#e26f46\" fill-rule=\"evenodd\" fill-opacity=\"1\" stroke=\"#000000\" stroke-opacity=\"1\" stroke-width=\"5.12\"/>\n",
       "<path clip-path=\"url(#clip350)\" d=\"M2193.69 218.585 Q2191.89 223.215 2190.17 224.627 Q2188.46 226.039 2185.59 226.039 L2182.19 226.039 L2182.19 222.474 L2184.69 222.474 Q2186.45 222.474 2187.42 221.64 Q2188.39 220.807 2189.57 217.705 L2190.34 215.761 L2179.85 190.252 L2184.36 190.252 L2192.47 210.529 L2200.57 190.252 L2205.08 190.252 L2193.69 218.585 Z\" fill=\"#000000\" fill-rule=\"evenodd\" fill-opacity=\"1\" /><path clip-path=\"url(#clip350)\" d=\"M2215.59 212.242 L2231.91 212.242 L2231.91 216.178 L2209.97 216.178 L2209.97 212.242 Q2212.63 209.488 2217.21 204.858 Q2221.82 200.205 2223 198.863 Q2225.24 196.34 2226.12 194.604 Q2227.03 192.844 2227.03 191.155 Q2227.03 188.4 2225.08 186.664 Q2223.16 184.928 2220.06 184.928 Q2217.86 184.928 2215.41 185.692 Q2212.97 186.455 2210.2 188.006 L2210.2 183.284 Q2213.02 182.15 2215.47 181.571 Q2217.93 180.993 2219.97 180.993 Q2225.34 180.993 2228.53 183.678 Q2231.72 186.363 2231.72 190.854 Q2231.72 192.983 2230.91 194.905 Q2230.13 196.803 2228.02 199.395 Q2227.44 200.067 2224.34 203.284 Q2221.24 206.479 2215.59 212.242 Z\" fill=\"#000000\" fill-rule=\"evenodd\" fill-opacity=\"1\" /></svg>\n"
      ]
     },
     "execution_count": 83,
     "metadata": {},
     "output_type": "execute_result"
    }
   ],
   "source": [
    "plot(Temps, r1, markershape=:circle)\n",
    "plot!(Temps, r2, markershape=:circle)"
   ]
  },
  {
   "cell_type": "code",
   "execution_count": null,
   "id": "a56e28da-e459-430e-8f9f-d2248a9becca",
   "metadata": {},
   "outputs": [],
   "source": []
  }
 ],
 "metadata": {
  "kernelspec": {
   "display_name": "Julia 1.6.3",
   "language": "julia",
   "name": "julia-1.6"
  },
  "language_info": {
   "file_extension": ".jl",
   "mimetype": "application/julia",
   "name": "julia",
   "version": "1.6.3"
  },
  "toc-autonumbering": false,
  "toc-showcode": false,
  "toc-showmarkdowntxt": false
 },
 "nbformat": 4,
 "nbformat_minor": 5
}
